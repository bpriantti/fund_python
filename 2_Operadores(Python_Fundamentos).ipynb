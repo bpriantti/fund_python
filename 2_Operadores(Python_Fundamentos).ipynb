{
  "cells": [
    {
      "cell_type": "markdown",
      "metadata": {
        "id": "view-in-github",
        "colab_type": "text"
      },
      "source": [
        "<a href=\"https://colab.research.google.com/github/bpriantti/Python_Fundamentos/blob/main/2_Operadores(Python_Fundamentos).ipynb\" target=\"_parent\"><img src=\"https://colab.research.google.com/assets/colab-badge.svg\" alt=\"Open In Colab\"/></a>"
      ]
    },
    {
      "cell_type": "markdown",
      "id": "10ca3a86-8145-4b05-9a26-69d14303668a",
      "metadata": {
        "id": "10ca3a86-8145-4b05-9a26-69d14303668a"
      },
      "source": [
        "# Fundamentos de Python - Operadores.\n",
        "____\n",
        "\n",
        "__Objetivo:__   \n",
        "\n",
        "O presente arquivo visa abordar de forma autoexplicativa e orientada os principais topicos de programacao em python referentes a __operadores__, sendo assim um guia para a programacao na linguagem servindo tambem como repostorio para esclarecimento de dúvidas durante o desenvolvimento.\n",
        "\n",
        "__Tópicos:__\n",
        "1. Definição.\n",
        "1. Operadores Matemáticos.\n",
        "1. Operadores Condicionais\n",
        "1. Operadores Lógicos\n",
        "1. Operadores Identidade\n",
        "1. Operadores Associativos\n",
        "\n",
        "__Autor:__  \n",
        "   - Bruno Priantti.\n",
        "    \n",
        "__Contato:__  \n",
        "  - b.priantti@outlook.com\n",
        "\n",
        "__Encontre-me:__  \n",
        "   -  https://www.linkedin.com/in/bpriantti/  \n",
        "   -  https://github.com/bpriantti\n",
        "   -  https://www.instagram.com/brunopriantti/\n",
        "   \n",
        "___"
      ]
    },
    {
      "cell_type": "markdown",
      "id": "559baacb-cba5-48f1-b827-e5d4ddeeb86b",
      "metadata": {
        "id": "559baacb-cba5-48f1-b827-e5d4ddeeb86b"
      },
      "source": [
        "## Definição:\n",
        "\n",
        "Operadores sao caracteres nativos do python do qual desepenham processos particulares da linguagem, realizando calculos, inspecoes, associacoes logicas dentre outras funcionalidades. \n",
        "\n",
        "__Tipos de Operadores:__  \n",
        "\n",
        "- Matemáticos.\n",
        "- Comparadores.\n",
        "- Lógicos.\n",
        "- Identidade.\n",
        "- Associativos.\n"
      ]
    },
    {
      "cell_type": "markdown",
      "id": "40858d40-a064-4853-b431-a478f79312ab",
      "metadata": {
        "tags": [],
        "id": "40858d40-a064-4853-b431-a478f79312ab"
      },
      "source": [
        "___\n",
        "## Operadores Matemáticos:\n",
        "\n",
        "Utilizamos os operadores para realizar operacoes matematicas, estes sao:\n",
        "\n",
        "~~~\n",
        " +   #soma \n",
        " -   #subtracao \n",
        " *   #multiplicacao \n",
        " /   #divisao \n",
        " //  #divisao por inteiro\n",
        " **  #exponenenciacao \n",
        " %   #resto divisão \n",
        "~~~\n",
        "\n",
        "__Exemplo de Operadores Matemáticos:__\n"
      ]
    },
    {
      "cell_type": "code",
      "execution_count": null,
      "id": "ee658cef-e8d1-4eca-a740-511d2a109ed4",
      "metadata": {
        "id": "ee658cef-e8d1-4eca-a740-511d2a109ed4",
        "outputId": "c93ab543-33d8-4331-908d-c5d05fa7e5bd"
      },
      "outputs": [
        {
          "name": "stdout",
          "output_type": "stream",
          "text": [
            "Soma(1+1): 2\n",
            "Subracao(1-1): 0\n",
            "Multiplicao(1*2): 2\n",
            "Divisao(8/4): 2.0\n",
            "Divisao por inteiro(4//3): 1\n",
            "Exponenciacao(2^4): 16\n",
            "Resto Divisao(4%2): 0\n"
          ]
        }
      ],
      "source": [
        "soma = 1+1\n",
        "print('Soma(1+1):',soma)\n",
        "#tambem e possivel somar assim:  soma +=1\n",
        "\n",
        "sub = 1-1\n",
        "print('Subracao(1-1):',sub)\n",
        "\n",
        "mult = 1*2\n",
        "print('Multiplicao(1*2):',mult)\n",
        "\n",
        "div = 8/4\n",
        "print('Divisao(8/4):',div)\n",
        "\n",
        "divc = 4//3\n",
        "print('Divisao por inteiro(4//3):',divc)\n",
        "\n",
        "exp = 2**4\n",
        "print('Exponenciacao(2^4):',exp)\n",
        "\n",
        "rest = 4%2\n",
        "print('Resto Divisao(4%2):',rest)"
      ]
    },
    {
      "cell_type": "markdown",
      "id": "3c831c4d-9ce4-404a-9cf5-a5755361c884",
      "metadata": {
        "id": "3c831c4d-9ce4-404a-9cf5-a5755361c884"
      },
      "source": [
        "___\n",
        "## Operadores Condicionais:\n",
        "\n",
        "Utilizamos os operadores condicionais, para realizar a comparacao entre duas variaveis, estes sao:\n",
        "\n",
        "~~~\n",
        "    ==  #Igual \n",
        "    !=  #Diferente   \n",
        "    >   #Maior \n",
        "    <   #Menor   \n",
        "    >=  #Maior igual   \n",
        "    <=  #Menor igual   \n",
        "~~~\n",
        "\n",
        "ps: retornam __True__ caso Verdadeiro e __False__ caso Falso\n",
        "\n",
        "__Exemplo de Operadores Condicionais:__"
      ]
    },
    {
      "cell_type": "code",
      "execution_count": null,
      "id": "d73cd24d-0bfb-42be-ac6e-790fe5c9e21e",
      "metadata": {
        "id": "d73cd24d-0bfb-42be-ac6e-790fe5c9e21e",
        "outputId": "52056bbd-a6a4-4295-f5b6-ddc96deb700c"
      },
      "outputs": [
        {
          "name": "stdout",
          "output_type": "stream",
          "text": [
            "8 é maior que 7: True\n",
            "8 é menor que 7: False\n",
            "8 é igual 7: False\n",
            "10 é maior 10: False\n",
            "10 é maior ou igual à 10: True\n",
            "10 é menor 10: False\n",
            "10 é menor ou igual à 10: True\n"
          ]
        }
      ],
      "source": [
        "#exemplo de uso:\n",
        "print('8 é maior que 7:', 8 > 7 )\n",
        "print('8 é menor que 7:', 8 < 7 )\n",
        "print('8 é igual 7:', 8 == 7 )\n",
        "print('10 é maior 10:', 10 > 10 )\n",
        "print('10 é maior ou igual à 10:', 10 >= 10 )\n",
        "print('10 é menor 10:', 10 < 10 )\n",
        "print('10 é menor ou igual à 10:', 10 <= 10 )"
      ]
    },
    {
      "cell_type": "markdown",
      "id": "b038a2d3-e0d2-4674-bb75-21391852df96",
      "metadata": {
        "id": "b038a2d3-e0d2-4674-bb75-21391852df96"
      },
      "source": [
        "___\n",
        "## Operadores Logicos:\n",
        "\n",
        "Os operadores booleanos nos permitem comparar variaveis de forma logica, sendo estes:\n",
        "\n",
        "~~~\n",
        "and  #e \n",
        "or   #ou \n",
        "not  #nao \n",
        "&\n",
        "|\n",
        "~~~\n",
        "\n",
        "Obs:  \n",
        "and - (Retorna True se ambas as declarações forem verdadeiras)  \n",
        "or   - (Retorna True se uma das declarações for verdadeira)  \n",
        "\n",
        "__Exemplo de Operadores Logicos:__"
      ]
    },
    {
      "cell_type": "code",
      "execution_count": null,
      "id": "30d790ba-edaf-40c0-98de-2f14f7ce7516",
      "metadata": {
        "id": "30d790ba-edaf-40c0-98de-2f14f7ce7516",
        "outputId": "db65505c-f06c-40c9-fbd2-970ece8cfe9b"
      },
      "outputs": [
        {
          "name": "stdout",
          "output_type": "stream",
          "text": [
            "8 é maior que 7 e 7 maior que 8: False\n",
            "8 é maior que 7 e 7 menor que 8: True\n",
            "8 é maior que 7 ou 7 menor que 8: False\n",
            "8 é maior que 7 ou 7 menor que 8: True\n"
          ]
        }
      ],
      "source": [
        "print('9 é maior que 8 e 8 maior que 9:', 9 > 8 and 9 > 8 )\n",
        "print('8 é maior que 7 e 7 menor que 8:', 8 > 7 and 7 < 8 )\n",
        "print('9 é maior que 8 ou 8 menor que 9:', 9 == 8 or 8 == 9 )\n",
        "print('8 é maior que 7 ou 7 menor que 8:', 8 > 7 or 7 > 8 )"
      ]
    },
    {
      "cell_type": "markdown",
      "id": "4579d92f-917a-48bf-b614-176ca7269dba",
      "metadata": {
        "id": "4579d92f-917a-48bf-b614-176ca7269dba"
      },
      "source": [
        "___\n",
        "## Operadores Indentidade:\n",
        "\n",
        "Os operadores de identidade são usados para comparar os objetos, não se forem iguais, mas se forem realmente o mesmo objeto com a mesma localização de memória:\n",
        "\n",
        "~~~\n",
        "is      #Retorna True se ambas as variáveis forem o mesmo objeto\n",
        "is not  #Retorna True se ambas as variáveis não forem o mesmo objeto\n",
        "~~~ \n",
        "\n",
        "__Exemplo de Operadores Indentidade:__"
      ]
    },
    {
      "cell_type": "code",
      "execution_count": null,
      "id": "bc979884-e763-4466-9c2b-81ac98258aff",
      "metadata": {
        "id": "bc979884-e763-4466-9c2b-81ac98258aff",
        "outputId": "9f0cc6d7-c891-4378-ee0e-d36b3d98f215"
      },
      "outputs": [
        {
          "name": "stdout",
          "output_type": "stream",
          "text": [
            "False\n",
            "True\n"
          ]
        }
      ],
      "source": [
        "#exemplo de uso:\n",
        "String_01 = str('move_average')\n",
        "String_02 = str('teste_hip')\n",
        "\n",
        "print(String_01 is String_02 )\n",
        "print(type(String_01) is type(String_02))"
      ]
    },
    {
      "cell_type": "markdown",
      "id": "a3e32db4-988c-40ef-8ada-2fb40394ea62",
      "metadata": {
        "id": "a3e32db4-988c-40ef-8ada-2fb40394ea62"
      },
      "source": [
        "___\n",
        "## Operadores Associativos:\n",
        "\n",
        "Os operadores de associação são usados para testar se uma sequência é apresentada em um objeto:\n",
        "\n",
        "\n",
        "~~~\n",
        "#in        (Retorna True se uma sequência com o valor especificado estiver presente no objeto)\n",
        "#not in    (Retorna True se uma sequência com o valor especificado não estiver presente no objeto)\n",
        "~~~ "
      ]
    },
    {
      "cell_type": "code",
      "execution_count": null,
      "id": "0e7729e4-32bd-46b0-a7e6-5f4a9e6d4ed0",
      "metadata": {
        "id": "0e7729e4-32bd-46b0-a7e6-5f4a9e6d4ed0",
        "outputId": "7bd99df2-ca73-463f-9480-3d0c29842f68"
      },
      "outputs": [
        {
          "name": "stdout",
          "output_type": "stream",
          "text": [
            "True\n"
          ]
        }
      ],
      "source": [
        "#exemplo de uso:\n",
        "\n",
        "name = 'Bruno'\n",
        "print( 'ru' in name )"
      ]
    }
  ],
  "metadata": {
    "kernelspec": {
      "display_name": "Python 3 (ipykernel)",
      "language": "python",
      "name": "python3"
    },
    "language_info": {
      "codemirror_mode": {
        "name": "ipython",
        "version": 3
      },
      "file_extension": ".py",
      "mimetype": "text/x-python",
      "name": "python",
      "nbconvert_exporter": "python",
      "pygments_lexer": "ipython3",
      "version": "3.9.7"
    },
    "colab": {
      "name": "2.Operadores(Python_Fundamentos).ipynb",
      "provenance": [],
      "collapsed_sections": [],
      "include_colab_link": true
    }
  },
  "nbformat": 4,
  "nbformat_minor": 5
}