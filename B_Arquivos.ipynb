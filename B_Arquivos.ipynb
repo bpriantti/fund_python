{
  "nbformat": 4,
  "nbformat_minor": 0,
  "metadata": {
    "colab": {
      "name": "B.Arquivos.ipynb",
      "provenance": [],
      "toc_visible": true,
      "authorship_tag": "ABX9TyP1DBhqPahRDRfooWNID5PQ",
      "include_colab_link": true
    },
    "kernelspec": {
      "name": "python3",
      "display_name": "Python 3"
    },
    "language_info": {
      "name": "python"
    }
  },
  "cells": [
    {
      "cell_type": "markdown",
      "metadata": {
        "id": "view-in-github",
        "colab_type": "text"
      },
      "source": [
        "<a href=\"https://colab.research.google.com/github/bpriantti/Python_Fundamentos/blob/main/B_Arquivos.ipynb\" target=\"_parent\"><img src=\"https://colab.research.google.com/assets/colab-badge.svg\" alt=\"Open In Colab\"/></a>"
      ]
    },
    {
      "cell_type": "markdown",
      "source": [
        "# Fundamentos de Python - Arquivos\n",
        "____\n",
        "\n",
        "__Objetivo:__   \n",
        "\n",
        "O presente arquivo visa abordar de forma autoexplicativa e orientada os principais topicos de programacao em python referentes a __Arquivos__, sendo assim um guia para a programação  na linguagem servindo tambem como repostorio para esclarecimento de dúvidas durante o desenvolvimento.\n",
        "\n",
        "__Autor:__  \n",
        "   - Bruno Priantti.\n",
        "    \n",
        "__Contato:__  \n",
        "  - b.priantti@outlook.com\n",
        "\n",
        "__Encontre-me:__  \n",
        "   -  https://www.linkedin.com/in/bpriantti/  \n",
        "   -  https://github.com/bpriantti\n",
        "   -  https://www.instagram.com/brunopriantti/\n",
        "   \n",
        "___\n"
      ],
      "metadata": {
        "id": "dP2jmja8TKtw"
      }
    },
    {
      "cell_type": "markdown",
      "source": [
        "## Definição:\n",
        "\n",
        "A manipulação de arquivos é uma tarefa fundamental na programação, esta é util para fornecer a possibilidade dos nossos programas salvarem informaçoes gerando assim logs, relatorios dentre outros pontos.\n",
        "\n",
        "__Caminhos de Abertura:__\n",
        "\n",
        "Definimos como caminhos de abertura, o diretorio em que se encontra a nosso arquivo em python escrevemos:\n",
        "\n",
        "C://Users//diretorio//arquivo.txt\n",
        "\n",
        "__Permissões de abertura:__  \n",
        "- 'r' = Read (Permite escrever)  \n",
        "- 'a' = Append (Permite ler e escrever sem deletar o conteudo que já existe)  \n",
        "- 'w' = Write (Permite escrever o conteudo a partir do zero, deletando o anterior)    \n",
        "- 'w+' = Write+ ( Permite criar e escrever um arquivo do zero)  \n",
        "\n",
        "__Tipos de Leitura:__ \n",
        "- 't' = Text (Arquivo de Texto)\n",
        "- 'b' = Binary ( Arquivo binario)"
      ],
      "metadata": {
        "id": "jpUqL-dqV52u"
      }
    },
    {
      "cell_type": "markdown",
      "source": [
        "## Criando Arquivos:\n",
        "\n",
        "Para criarmos, arquivos do zero utilizamos a sintaxe \n",
        "\n",
        "~~~\n",
        "#Para Criar e Abrir o Arquivo:\n",
        "Novo_Arquivo = open('Diretorio do Arquivo', 'w+')\n",
        "\n",
        "#Para Escrever no Arquivo:\n",
        "arqv.write('Informações')\n",
        "\n",
        "#Para Fechar o Arquivo:\n",
        "arqv.close()\n",
        "~~~"
      ],
      "metadata": {
        "id": "sEpjIARjadSc"
      }
    },
    {
      "cell_type": "code",
      "source": [
        "#Exemplo:\n",
        "\n",
        "#Criando o arquivo do zero:\n",
        "arqv = open('//content//arquivo.txt', 'w+')\n",
        "\n",
        "#Escrevendo no arquivo:\n",
        "arqv.write('Bruno Priantti\\n')\n",
        "\n",
        "#Utilize \\n ou algum finalizador de linha.\n",
        "\n",
        "#Fechando o arquivo:\n",
        "arqv.close()\n",
        "\n",
        "#Vamos agora escrever uma nova linha em nosso arquivo:\n",
        "arqv = open('//content//arquivo.txt', 'a')\n",
        "arqv.write('AI-Machine Learning\\n')\n",
        "arqv.write('Sorfware Engineer\\n')\n",
        "arqv.write('Quantitative Finances\\n')\n",
        "arqv.write('Data Science\\n')\n",
        "\n",
        "#Fechando o arquivo:\n",
        "arqv.close()"
      ],
      "metadata": {
        "id": "mlkVU2EaTSiE"
      },
      "execution_count": 22,
      "outputs": []
    },
    {
      "cell_type": "markdown",
      "source": [
        "## Lendo Arquivos:"
      ],
      "metadata": {
        "id": "ByxESsbWdnPr"
      }
    },
    {
      "cell_type": "code",
      "source": [
        "#Abrindo o arquivo agora com a permissão de leitura:\n",
        "arqv = open('//content//arquivo.txt', 'r')\n",
        "\n",
        "#Imprimindo o arquivo:\n",
        "print(arqv.read())"
      ],
      "metadata": {
        "colab": {
          "base_uri": "https://localhost:8080/"
        },
        "id": "iF5ldNbjdpvE",
        "outputId": "bb7e44ac-c2a7-47dc-9411-f723c5fb561b"
      },
      "execution_count": 23,
      "outputs": [
        {
          "output_type": "stream",
          "name": "stdout",
          "text": [
            "Bruno Priantti\n",
            "AI-Machine Learning\n",
            "Sorfware Engineer\n",
            "Quantitative Finances\n",
            "Data Science\n",
            "\n"
          ]
        }
      ]
    }
  ]
}