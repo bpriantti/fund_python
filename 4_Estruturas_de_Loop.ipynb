{
  "cells": [
    {
      "cell_type": "markdown",
      "metadata": {
        "id": "view-in-github",
        "colab_type": "text"
      },
      "source": [
        "<a href=\"https://colab.research.google.com/github/bpriantti/Python_Fundamentos/blob/main/4_Estruturas_de_Loop.ipynb\" target=\"_parent\"><img src=\"https://colab.research.google.com/assets/colab-badge.svg\" alt=\"Open In Colab\"/></a>"
      ]
    },
    {
      "cell_type": "markdown",
      "id": "07d31e81-169f-42e6-9070-e2f3fedae224",
      "metadata": {
        "id": "07d31e81-169f-42e6-9070-e2f3fedae224"
      },
      "source": [
        "# Fundamentos de Python - Estruturas de Loop.\n",
        "____\n",
        "\n",
        "__Objetivo:__   \n",
        "\n",
        "O presente arquivo visa abordar de forma autoexplicativa e orientada os principais topicos de programacao em python referentes a __estruturas de loop__, sendo assim um guia para a programacao na linguagem servindo tambem como repostorio para esclarecimento de dúvidas durante o desenvolvimento.\n",
        "\n",
        "__Autor:__  \n",
        "   - Bruno Priantti.\n",
        "    \n",
        "__Contato:__  \n",
        "  - b.priantti@outlook.com\n",
        "\n",
        "__Encontre-me:__  \n",
        "   -  https://www.linkedin.com/in/bpriantti/  \n",
        "   -  https://github.com/bpriantti\n",
        "   -  https://www.instagram.com/brunopriantti/\n",
        "   \n",
        "___"
      ]
    },
    {
      "cell_type": "markdown",
      "id": "325419bb-5b3d-4cd2-9fc1-d416bb71dc29",
      "metadata": {
        "id": "325419bb-5b3d-4cd2-9fc1-d416bb71dc29"
      },
      "source": [
        "### Definição:\n",
        "\n",
        "loops nos servem para percorrer determinadas estruturas de dados dentre outras aplicacoes no python existem 2 tipos de loops. \n",
        "\n",
        "while -> chamado de iteracao indefinida da qual no início do loop não se sabe o número de repetições.\n",
        "\n",
        "ps: utilize a funcao __range()__ para determinar o inicio, fim, steps do loop.\n"
      ]
    },
    {
      "cell_type": "markdown",
      "id": "698aeb6f-0fe7-491d-8632-f386f9dbcd57",
      "metadata": {
        "id": "698aeb6f-0fe7-491d-8632-f386f9dbcd57"
      },
      "source": [
        "____\n",
        "### Loop For | in:\n",
        "\n",
        "O Loop for|in chamado de iteracao definida da qual no inicio do loop ja se sabe o numero de repeticoes, o comando for executara em n vezes o objeto apos o comando in, em programacao chamamos isso de apontado por in, relebrando o conceito de ponteiros do bom e velhoo c++, logo podemos usar o for em uma lista de numeros (0,1,2,3,4,5,6,7,8 ...) e este sera executado ate o fim desta lista, podemos tambem usalos em diversas outros objetos como arrays, listas,tuplas e por ai vai.  "
      ]
    },
    {
      "cell_type": "code",
      "execution_count": null,
      "id": "d59a3d66-fe84-408f-ac53-a687d038b6de",
      "metadata": {
        "id": "d59a3d66-fe84-408f-ac53-a687d038b6de",
        "outputId": "5e5cbc6b-1cdf-4843-ce49-8267036a5b25"
      },
      "outputs": [
        {
          "name": "stdout",
          "output_type": "stream",
          "text": [
            "0\n",
            "1\n",
            "2\n",
            "3\n",
            "4\n",
            "5\n",
            "6\n",
            "7\n",
            "8\n",
            "9\n",
            "fim loop\n"
          ]
        }
      ],
      "source": [
        "# Sintaxe For [ Loop ]\n",
        "# o presente loop realiza o print dos numeros de 0 a 9.\n",
        "\n",
        "for x in range(0,10,1):\n",
        "    print(x) \n",
        "else:\n",
        "    print('fim loop')"
      ]
    },
    {
      "cell_type": "code",
      "execution_count": null,
      "id": "19786c38-6c7f-42f4-86b9-1f1e1e3fabf8",
      "metadata": {
        "id": "19786c38-6c7f-42f4-86b9-1f1e1e3fabf8",
        "outputId": "611cfc51-0e48-40cc-e72d-30a189116f83"
      },
      "outputs": [
        {
          "name": "stdout",
          "output_type": "stream",
          "text": [
            "Bruno\n",
            "26\n",
            "Quant\n",
            "Python\n",
            "Frio\n",
            "Lasanha\n"
          ]
        }
      ],
      "source": [
        "#tambem podemos percorrer listas com o for|in\n",
        "\n",
        "lista = ['Bruno','26','Quant','Python','Frio','Lasanha']\n",
        "\n",
        "for x in lista:\n",
        "    print(x)"
      ]
    },
    {
      "cell_type": "markdown",
      "id": "1df9519a-69fe-48fe-a0b2-b04d5b5d86b8",
      "metadata": {
        "id": "1df9519a-69fe-48fe-a0b2-b04d5b5d86b8"
      },
      "source": [
        "___\n",
        "### Loop While:\n",
        "\n",
        "O Loop while chamado de iteracao indefinida, ou seja ao inicio do loop nao sabemos quantas vezes o mesmo sera executada, por isso temos uma condicao para o fim do loop e quando executar esta condicao o mesmo executara o fim do loop."
      ]
    },
    {
      "cell_type": "code",
      "execution_count": null,
      "id": "2f590cd7-dfa5-488e-bfca-52428a00787f",
      "metadata": {
        "id": "2f590cd7-dfa5-488e-bfca-52428a00787f",
        "outputId": "e88d37ce-a2fb-4b45-93c5-f69c154e7fd3"
      },
      "outputs": [
        {
          "name": "stdout",
          "output_type": "stream",
          "text": [
            "0\n",
            "1\n",
            "2\n",
            "3\n",
            "4\n",
            "5\n",
            "6\n",
            "7\n",
            "8\n",
            "9\n",
            "10\n",
            "fim loop\n"
          ]
        }
      ],
      "source": [
        "# Sintaxe While [ Loop ]\n",
        "# o presente loop realiza o print dos numeros de 0 ate 9.\n",
        "# o loop funciona realizando o incremento da var acc de 0 ate 10, quando a condicao nao for mais verdadeira ele sai do loop.\n",
        "\n",
        "acc = 0\n",
        "while acc <= 10:\n",
        "    print(acc)\n",
        "    acc += 1\n",
        "else:\n",
        "    print('fim loop')"
      ]
    },
    {
      "cell_type": "markdown",
      "id": "67c10016-4e5b-4f8b-acf2-9aa1d30dd306",
      "metadata": {
        "id": "67c10016-4e5b-4f8b-acf2-9aa1d30dd306"
      },
      "source": [
        "___\n",
        "### Comandos Break e Continue:\n",
        "\n",
        "Os comandos break e continue nos permitem interromper a execucao do loop  e continuar a execucao do mesmo."
      ]
    },
    {
      "cell_type": "code",
      "execution_count": null,
      "id": "73531ebf-b8be-41a6-bc39-323553d16bbd",
      "metadata": {
        "id": "73531ebf-b8be-41a6-bc39-323553d16bbd",
        "outputId": "b216ce7f-cf1f-47cf-c77c-9f6c0238fa0f"
      },
      "outputs": [
        {
          "name": "stdout",
          "output_type": "stream",
          "text": [
            "Chegou em  9 loop interrompido\n"
          ]
        }
      ],
      "source": [
        "#O presente codigo realiza a interrupcao do loop ao chegar no numero 9.\n",
        "\n",
        "for P in range(10):\n",
        "    if P == 9:\n",
        "        print('Chegou em ', P, 'loop interrompido')\n",
        "        break\n",
        "    else:\n",
        "        continue"
      ]
    }
  ],
  "metadata": {
    "kernelspec": {
      "display_name": "Python 3 (ipykernel)",
      "language": "python",
      "name": "python3"
    },
    "language_info": {
      "codemirror_mode": {
        "name": "ipython",
        "version": 3
      },
      "file_extension": ".py",
      "mimetype": "text/x-python",
      "name": "python",
      "nbconvert_exporter": "python",
      "pygments_lexer": "ipython3",
      "version": "3.9.7"
    },
    "colab": {
      "name": "4.Estruturas de Loop.ipynb",
      "provenance": [],
      "collapsed_sections": [],
      "include_colab_link": true
    }
  },
  "nbformat": 4,
  "nbformat_minor": 5
}