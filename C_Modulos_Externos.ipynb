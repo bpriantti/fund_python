{
  "nbformat": 4,
  "nbformat_minor": 0,
  "metadata": {
    "colab": {
      "name": "C.Modulos Externos.ipynb",
      "provenance": [],
      "collapsed_sections": [],
      "authorship_tag": "ABX9TyPcjKaYFmTF+4XgmaK96hUL",
      "include_colab_link": true
    },
    "kernelspec": {
      "name": "python3",
      "display_name": "Python 3"
    },
    "language_info": {
      "name": "python"
    }
  },
  "cells": [
    {
      "cell_type": "markdown",
      "metadata": {
        "id": "view-in-github",
        "colab_type": "text"
      },
      "source": [
        "<a href=\"https://colab.research.google.com/github/bpriantti/Python_Fundamentos/blob/main/C_Modulos_Externos.ipynb\" target=\"_parent\"><img src=\"https://colab.research.google.com/assets/colab-badge.svg\" alt=\"Open In Colab\"/></a>"
      ]
    },
    {
      "cell_type": "markdown",
      "source": [
        "# Fundamentos de Python - Arquivos\n",
        "____\n",
        "\n",
        "__Objetivo:__   \n",
        "\n",
        "O presente arquivo visa abordar de forma autoexplicativa e orientada os principais topicos de programação em python referentes a __Arquivos__, sendo assim um guia para a programação  na linguagem servindo tambem como repostorio para esclarecimento de dúvidas durante o desenvolvimento.\n",
        "\n",
        "__Autor:__  \n",
        "   - Bruno Priantti.\n",
        "    \n",
        "__Contato:__  \n",
        "  - b.priantti@outlook.com\n",
        "\n",
        "__Encontre-me:__  \n",
        "   -  https://www.linkedin.com/in/bpriantti/  \n",
        "   -  https://github.com/bpriantti\n",
        "   -  https://www.instagram.com/brunopriantti/\n",
        "   \n",
        "___\n"
      ],
      "metadata": {
        "id": "5hAwI88WknuV"
      }
    },
    {
      "cell_type": "markdown",
      "source": [
        "## Definição:\n",
        "\n",
        "Modulos Externos sao projetos em python largamente utilizados pela comunidade estes nos permitem expandir a nossa produtividade contando com a comunidade e desenvolvedores/instituições que disponibilizam modulos que ja sao desenvolvidos, auditados e inspecionados pela comunidade.\n",
        "\n",
        "Existem modulos diversos para cada aplicacao e desenvolvimento que planejemos fazer, existem tambem modulos nativos do python chamos __Builtins__ estes voce pode acompanhar aqui no link:\n",
        "\n",
        "https://docs.python.org/3/py-modindex.html\n",
        "\n",
        "\n"
      ],
      "metadata": {
        "id": "iHGCODznk4Am"
      }
    },
    {
      "cell_type": "markdown",
      "source": [
        "## Imporando modulos da Standart Lib:"
      ],
      "metadata": {
        "id": "buPheOuim0kL"
      }
    },
    {
      "cell_type": "markdown",
      "source": [
        "\n",
        "__import__ nome_modulo"
      ],
      "metadata": {
        "id": "1Jqz0x7mpy9G"
      }
    },
    {
      "cell_type": "code",
      "source": [
        "#O modulo random nos permite gerar numeros aleatorios aqui no python.\n",
        "import random\n",
        "\n",
        "#sorteio aleatorio\n",
        "escolha = random.choice([1, 2, 3, 4, 5])\n",
        "print(escolha)\n",
        "\n",
        "#gerando um numero aleatorio entre ranges\n",
        "numero_aleatorio = random.random() # entre [0,1)\n",
        "print(numero_aleatorio)\n"
      ],
      "metadata": {
        "colab": {
          "base_uri": "https://localhost:8080/"
        },
        "id": "9GkTO4K1kpBd",
        "outputId": "0eae35e6-0082-43de-c584-fdc0e01d6bc6"
      },
      "execution_count": 2,
      "outputs": [
        {
          "output_type": "stream",
          "name": "stdout",
          "text": [
            "4\n",
            "0.819071250420045\n"
          ]
        }
      ]
    },
    {
      "cell_type": "code",
      "source": [
        "#vamos dar umar olhada no modulo time\n",
        "import time\n",
        "\n",
        "# Posso pegar a hora em segundos\n",
        "hora = time.time()\n",
        "\n",
        "# Posso formatar como mostrar a data\n",
        "hora_formatada = time.strftime(\"%H:%M:%S\")\n",
        "\n",
        "print(hora)\n",
        "print(hora_formatada)"
      ],
      "metadata": {
        "colab": {
          "base_uri": "https://localhost:8080/"
        },
        "id": "8Gq_F7__rdtr",
        "outputId": "c7e42d8e-5831-4bb1-fbf2-50209f6cb270"
      },
      "execution_count": 5,
      "outputs": [
        {
          "output_type": "stream",
          "name": "stdout",
          "text": [
            "1654530396.6238272\n",
            "15:46:36\n"
          ]
        }
      ]
    },
    {
      "cell_type": "markdown",
      "source": [
        "__from__ parte_modulo import nome_modulo"
      ],
      "metadata": {
        "id": "rYNdhQlgp6D6"
      }
    },
    {
      "cell_type": "code",
      "source": [
        "#caso queiramos tambem poemos importar apenas parte dos modulos.\n",
        "\n",
        "from math import pow, isfinite\n",
        "\n",
        "print(pow(15,3))\n",
        "\n",
        "isfinite(1)"
      ],
      "metadata": {
        "colab": {
          "base_uri": "https://localhost:8080/"
        },
        "id": "aYyvUuhlseC7",
        "outputId": "3f2dbd86-b9b7-44d4-800b-224a775b6c23"
      },
      "execution_count": 3,
      "outputs": [
        {
          "output_type": "stream",
          "name": "stdout",
          "text": [
            "3375.0\n"
          ]
        },
        {
          "output_type": "execute_result",
          "data": {
            "text/plain": [
              "True"
            ]
          },
          "metadata": {},
          "execution_count": 3
        }
      ]
    },
    {
      "cell_type": "markdown",
      "source": [
        "utilizando o __as__:"
      ],
      "metadata": {
        "id": "rf6iXHeUqaQN"
      }
    },
    {
      "cell_type": "code",
      "source": [
        "# nem sempre queremos usar o nome dos modulos entao podemos utilizar o comando, as, para renomear os modulos como quisermos\n",
        "\n",
        "#vamos dar umar olhada no modulo time\n",
        "import time as ti\n",
        "\n",
        "# Posso pegar a hora em segundos\n",
        "hora = ti.strftime(\"%H:%M:%S\")\n",
        "\n",
        "print(hora)"
      ],
      "metadata": {
        "colab": {
          "base_uri": "https://localhost:8080/"
        },
        "id": "Ngo2sFN6qKhZ",
        "outputId": "2f072831-ca24-4963-ecc5-a381e7b4fae6"
      },
      "execution_count": 7,
      "outputs": [
        {
          "output_type": "stream",
          "name": "stdout",
          "text": [
            "20:18:42\n"
          ]
        }
      ]
    },
    {
      "cell_type": "markdown",
      "source": [
        "## Modulos Externos(pip install)"
      ],
      "metadata": {
        "id": "RuYvT2cwrfe9"
      }
    },
    {
      "cell_type": "markdown",
      "source": [
        "Os modulos externos sao os modulos que nao vem por padrao instalado com o python, para estes torna-se necessario instala-los com o comando:\n",
        "\n",
        "__pip install nome_modulo__\n",
        "\n",
        "existem uma serie de modulos uteis para diversas areas da programacao os mais utilizados para analise, segue abaixo a lista dos modulos dos quais acho importante para o uso em AI-machine learning, Data Science, Estatistica e Matematica e relevantes para o desenvolvimento:\n",
        "\n",
        "link PyPi:\n",
        "https://pypi.org/\n",
        "\n",
        "Bibliotecas:\n",
        "\n",
        "os — Miscellaneous operating system interfaces:  \n",
        "https://docs.python.org/3/library/os.html\n",
        "\n",
        "json:  \n",
        "https://docs.python.org/3/library/json.html#module-json\n",
        "\n",
        "numpy:    \n",
        "https://numpy.org/\n",
        "\n",
        "pandas:  \n",
        "https://pandas.pydata.org/\n",
        "\n",
        "scikit-learn:  \n",
        "https://scikit-learn.org/stable/index.html\n",
        "\n",
        "statsmodels:  \n",
        "https://www.statsmodels.org/stable/index.html\n",
        "\n",
        "matplotlib:  \n",
        "https://matplotlib.org/\n",
        "\n",
        "seaborn:  \n",
        "https://seaborn.pydata.org/\n",
        "\n",
        "plotly:  \n",
        "https://plotly.com/\n",
        "\n",
        "keras:  \n",
        "https://keras.io/\n",
        "\n",
        "__Obs:__ Existem muitas biblios torna-se interressante estudar conforme a demanada pelo desenvolvimento do leitor.\n"
      ],
      "metadata": {
        "id": "glJAT4lrsEYX"
      }
    },
    {
      "cell_type": "code",
      "source": [
        ""
      ],
      "metadata": {
        "id": "jh7GepW3xYTG"
      },
      "execution_count": null,
      "outputs": []
    }
  ]
}