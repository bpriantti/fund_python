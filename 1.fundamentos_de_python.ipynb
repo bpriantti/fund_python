{
 "cells": [
  {
   "cell_type": "markdown",
   "id": "b115672b-8fe1-49de-a4db-ee3fcbf62b76",
   "metadata": {},
   "source": [
    "# Fundamentos de Python - Programacao Imperativa\n",
    "____"
   ]
  },
  {
   "cell_type": "markdown",
   "id": "c62c3233-3409-4b57-9309-a738611108fd",
   "metadata": {
    "tags": []
   },
   "source": [
    "__Objetivo:__   \n",
    "O presente arquivo visa abordar de forma auto-explicativa e orientada os principais topicos de programacao em python, sendo assim um guia para a programacao na linguagem servindo tambem como repostorio para esclarecimento de duvidas durante o desenvolvimento.\n",
    "\n",
    "__Autor:__  \n",
    "   - Bruno Priantti.\n",
    "    \n",
    "__Contato:__  \n",
    "  - b.priantti@outlook.com\n",
    "\n",
    "__Encontre-me:__  \n",
    "   -  www.linkedin.com/in/bpriantti  \n",
    "   -  https://github.com/bpriantti\n",
    "   -  https://www.instagram.com/brunopriantti/\n",
    "   \n",
    "___"
   ]
  },
  {
   "cell_type": "markdown",
   "id": "2a0eb316-cfa2-4095-a3ef-8c18c0f56a8c",
   "metadata": {},
   "source": [
    "__Topicos:__"
   ]
  },
  {
   "cell_type": "markdown",
   "id": "ea9e04b5-33d5-42ab-9701-b9e2b0c62873",
   "metadata": {},
   "source": [
    "1. Hello Word.\n",
    "2. Variaveis.\n",
    "3. Operadores.\n",
    "4. Estrututuras de Comparacao\n",
    "5. Estrututuras de Loop\n",
    "6. Estrututuras de Dados\n",
    "7. Funcoes\n",
    "8. Classes e Objetos\n",
    "\n",
    "___"
   ]
  },
  {
   "cell_type": "markdown",
   "id": "497cc674-6c7a-4af6-8b18-384e5c348035",
   "metadata": {
    "tags": []
   },
   "source": [
    "## Hello Word:"
   ]
  },
  {
   "cell_type": "code",
   "execution_count": 2,
   "id": "38900a38-fdf3-4c0f-80cb-7f3a2568aa49",
   "metadata": {},
   "outputs": [
    {
     "name": "stdout",
     "output_type": "stream",
     "text": [
      "Hello Word\n"
     ]
    }
   ],
   "source": [
    "#Podemos utiliziar ' ' (aspas simples)  \n",
    "#Podemos utiliziar \" \" (aspas duplas)  \n",
    "\n",
    "# '\\n' Pular Linha.  \n",
    "# '#' para comentar algo.\n",
    "\n",
    "#utilize para mostrar coisas na comand line.\n",
    "#print('digite aqui)' \n",
    "\n",
    "#-----------\n",
    "#Hello Word\n",
    "print('Hello Word')   "
   ]
  },
  {
   "cell_type": "markdown",
   "id": "e689c1e0-35fb-4f3d-a584-7f8188615756",
   "metadata": {},
   "source": [
    "___"
   ]
  },
  {
   "cell_type": "markdown",
   "id": "fc452cc8-5084-4286-a712-54898eb58d2b",
   "metadata": {
    "jp-MarkdownHeadingCollapsed": true,
    "tags": []
   },
   "source": [
    "## Variaveis.\n",
    "\n",
    "__Definicao:__ \n",
    "\n",
    "Mecanismo de armazenamento de dados temporario, ou seja, dados salvos em espacos da memória RAM do sistema computacional em uso (notebook, mobile, console de vídeo game, smartwatch, etc.)."
   ]
  },
  {
   "cell_type": "code",
   "execution_count": 3,
   "id": "bcb9c008-9c18-468d-a546-2bd0f8e5c1e8",
   "metadata": {},
   "outputs": [
    {
     "name": "stdout",
     "output_type": "stream",
     "text": [
      "26\n",
      "50\n",
      "CARRO\n"
     ]
    }
   ],
   "source": [
    "idade = 26\n",
    "print(idade)\n",
    "\n",
    "idade = 50\n",
    "print(idade)\n",
    "\n",
    "nome = \"CARRO\"\n",
    "print(nome)"
   ]
  },
  {
   "cell_type": "markdown",
   "id": "e63e988a-8a96-4f15-8401-2ffd9427ee15",
   "metadata": {
    "tags": []
   },
   "source": [
    "### Tipos Nativos de Variaveis:"
   ]
  },
  {
   "cell_type": "code",
   "execution_count": null,
   "id": "d081d926-75ca-4d8c-9473-7f1e7b5d24d1",
   "metadata": {},
   "outputs": [],
   "source": [
    "#int    : numero inteiro.        (numericos)\n",
    "#float  : numero racional.       (numericos) \n",
    "#string : conjunto de caracters  (texto)\n",
    "#bool   : booleana(True, False)  (logica)\n",
    "#none   : none                   (none)\n",
    "\n",
    "#utilize para retornar o tipo da variavel:\n",
    "#type(var)"
   ]
  },
  {
   "cell_type": "code",
   "execution_count": 9,
   "id": "c6d5dc3e-7aa6-441b-9cbb-b718ef362900",
   "metadata": {},
   "outputs": [
    {
     "name": "stdout",
     "output_type": "stream",
     "text": [
      "1000\n",
      "<class 'int'>\n",
      "0.05\n",
      "<class 'float'>\n"
     ]
    }
   ],
   "source": [
    "#Tipo numerico: int.\n",
    "preco = 1000\n",
    "tipo_preco = type(preco)\n",
    "print(preco)\n",
    "print(tipo_preco)\n",
    "\n",
    "#Tipo numerico: float.\n",
    "juros = 0.05\n",
    "tipo_juros = type(juros)\n",
    "print(juros)\n",
    "print(tipo_juros)"
   ]
  },
  {
   "cell_type": "code",
   "execution_count": 10,
   "id": "f5f69171-375c-454d-b131-49147d1a6ee3",
   "metadata": {},
   "outputs": [
    {
     "name": "stdout",
     "output_type": "stream",
     "text": [
      "Bruno\n",
      "<class 'str'>\n",
      "Brasil\n",
      "<class 'str'>\n"
     ]
    }
   ],
   "source": [
    "#Tipos de texto: strings (str):\n",
    "nome = 'Bruno'\n",
    "print(nome)\n",
    "print(type(nome))\n",
    "pais = 'Brasil'\n",
    "print(pais)\n",
    "print(type(pais))"
   ]
  },
  {
   "cell_type": "code",
   "execution_count": 11,
   "id": "68624c1e-5707-44f3-a056-9f7b0cead3a7",
   "metadata": {},
   "outputs": [
    {
     "name": "stdout",
     "output_type": "stream",
     "text": [
      "True\n",
      "<class 'bool'>\n"
     ]
    }
   ],
   "source": [
    "#Tipos Logicos: bool\n",
    "\n",
    "usuario_maior_de_idade = True\n",
    "print(usuario_maior_de_idade)\n",
    "print(type(usuario_maior_de_idade))"
   ]
  },
  {
   "cell_type": "code",
   "execution_count": 12,
   "id": "26a744b2-f578-4dc1-a1d6-45fcf3aeeda8",
   "metadata": {},
   "outputs": [
    {
     "name": "stdout",
     "output_type": "stream",
     "text": [
      "None\n",
      "<class 'NoneType'>\n"
     ]
    }
   ],
   "source": [
    "#Tipos Vazio: None\n",
    "\n",
    "telefone_fixo = None\n",
    "print(telefone_fixo)\n",
    "print(type(telefone_fixo))"
   ]
  },
  {
   "cell_type": "markdown",
   "id": "e6d20bc7-8a19-44ec-9d57-ab6f7e91ea80",
   "metadata": {},
   "source": [
    "### Input de Dados - input():"
   ]
  },
  {
   "cell_type": "code",
   "execution_count": 19,
   "id": "9d0219f5-927c-4f51-81f1-2aafe255ac21",
   "metadata": {},
   "outputs": [
    {
     "name": "stdin",
     "output_type": "stream",
     "text": [
      "Digite uma frase aqui: Bruno Priantti\n"
     ]
    },
    {
     "name": "stdout",
     "output_type": "stream",
     "text": [
      "type(var):  <class 'str'>\n",
      " \n"
     ]
    },
    {
     "name": "stdin",
     "output_type": "stream",
     "text": [
      "Digite um numero:  14\n"
     ]
    },
    {
     "data": {
      "text/plain": [
       "str"
      ]
     },
     "execution_count": 19,
     "metadata": {},
     "output_type": "execute_result"
    }
   ],
   "source": [
    "#recebendo strings\n",
    "var = input('Digite uma frase aqui:')\n",
    "print('type(var): ', type(var))\n",
    "print(' ')\n",
    "var = input('Digite um numero: ')\n",
    "type(var)"
   ]
  },
  {
   "cell_type": "code",
   "execution_count": null,
   "id": "eace67d0-4a2f-4bbc-aaf0-5475db90abf2",
   "metadata": {},
   "outputs": [],
   "source": [
    "#quando o input for um numero e queira utiliza-lo como numero use os conversores:"
   ]
  },
  {
   "cell_type": "markdown",
   "id": "1b554a15-3e7a-4801-b866-1a4034c42a6d",
   "metadata": {},
   "source": [
    "### Convertendo Tipos de Variaveis:"
   ]
  },
  {
   "cell_type": "code",
   "execution_count": null,
   "id": "2df1d5f7-0a2d-4796-b9e2-e43d98092fbe",
   "metadata": {},
   "outputs": [],
   "source": [
    "#Conversores:\n",
    "#    int()\n",
    "#    float()\n",
    "#    str()\n",
    "#retorno vai ser variavel no tipo da funcao.    "
   ]
  },
  {
   "cell_type": "code",
   "execution_count": 23,
   "id": "da401a59-5f06-41b7-ad8e-d24c150ebcb7",
   "metadata": {},
   "outputs": [
    {
     "name": "stdout",
     "output_type": "stream",
     "text": [
      "3\n",
      "10.0\n",
      "10\n"
     ]
    }
   ],
   "source": [
    "print(int(3.9))\n",
    "print(float(10))\n",
    "print(int('10'))"
   ]
  },
  {
   "cell_type": "markdown",
   "id": "51984091-a7d5-4160-94b2-52029b5da836",
   "metadata": {},
   "source": [
    "___"
   ]
  },
  {
   "cell_type": "markdown",
   "id": "fb616ed5-653c-42d2-a403-851b2d98e318",
   "metadata": {
    "jp-MarkdownHeadingCollapsed": true,
    "tags": []
   },
   "source": [
    "## Operadores\n",
    "\n",
    "__Definicao:__\n",
    "\n",
    "Operadores sao caracteres nativos do python do qual desepenham processos particulares da linguagem.  \n",
    "\n",
    "__Tipos de Operadores:__  \n",
    "\n",
    "- Matematicos.\n",
    "- Comparadores.\n",
    "- Logicos.\n",
    "- Indentidade.\n",
    "- Associativos."
   ]
  },
  {
   "cell_type": "markdown",
   "id": "5c5ee66a-e03d-4862-adb5-95ddca34b6ef",
   "metadata": {
    "tags": []
   },
   "source": [
    "### Matematicos:"
   ]
  },
  {
   "cell_type": "code",
   "execution_count": 28,
   "id": "a55d64d2-a7db-4d2b-b7e8-02e96d856d2b",
   "metadata": {},
   "outputs": [],
   "source": [
    "#Utilizamos os operadores para realizar operacoes matematicas, estes sao:\n",
    "\n",
    "# +   ( soma )\n",
    "# -   ( subtracao )\n",
    "# *   ( multiplicacao )\n",
    "# /   ( divisao )\n",
    "# //  ( divisao por inteiro)\n",
    "# **  ( exponenenciacao )\n",
    "# %   ( resto divisao )"
   ]
  },
  {
   "cell_type": "code",
   "execution_count": 31,
   "id": "f75424b4-c921-4187-b753-20b4a31e99cf",
   "metadata": {},
   "outputs": [
    {
     "name": "stdout",
     "output_type": "stream",
     "text": [
      "Soma(1+1): 2\n",
      "Subracao(1-1): 0\n",
      "Multiplicao(1*2): 2\n",
      "Divisao(8/4): 2.0\n",
      "Divisao por inteiro(4//3): 1\n",
      "Exponenciacao(2^4): 16\n",
      "Resto Divisao(4%2): 0\n"
     ]
    }
   ],
   "source": [
    "soma = 1+1\n",
    "print('Soma(1+1):',soma)\n",
    "\n",
    "sub = 1-1\n",
    "print('Subracao(1-1):',sub)\n",
    "\n",
    "mult = 1*2\n",
    "print('Multiplicao(1*2):',mult)\n",
    "\n",
    "div = 8/4\n",
    "print('Divisao(8/4):',div)\n",
    "\n",
    "divc = 4//3\n",
    "print('Divisao por inteiro(4//3):',divc)\n",
    "\n",
    "exp = 2**4\n",
    "print('Exponenciacao(2^4):',exp)\n",
    "\n",
    "rest = 4%2\n",
    "print('Resto Divisao(4%2):',rest)"
   ]
  },
  {
   "cell_type": "markdown",
   "id": "020a5acd-c48a-40fa-92e2-3d2b8ea20724",
   "metadata": {},
   "source": [
    "### Comparadores:"
   ]
  },
  {
   "cell_type": "code",
   "execution_count": 33,
   "id": "362bdfb4-73a7-4b14-8c82-2b7a978ff3f9",
   "metadata": {},
   "outputs": [],
   "source": [
    "#Os operadores de comparação são usados para comparar duas variaveis:\n",
    "\n",
    "# == ( Igual )\n",
    "# != ( Diferente )  \n",
    "# >  ( Maior )\n",
    "# <  ( Menor )  \n",
    "# >= ( Maior igual )  \n",
    "# <= ( Menor igual )  \n",
    "\n",
    "#ps: retornam True ou False"
   ]
  },
  {
   "cell_type": "code",
   "execution_count": 34,
   "id": "c4738e05-6c3e-44a3-8c91-038c23663b9b",
   "metadata": {},
   "outputs": [
    {
     "name": "stdout",
     "output_type": "stream",
     "text": [
      "8 é maior que 7: True\n",
      "8 é menor que 7: False\n",
      "8 é igual 7: False\n",
      "10 é maior 10: False\n",
      "10 é maior ou igual à 10: True\n",
      "10 é menor 10: False\n",
      "10 é menor ou igual à 10: True\n"
     ]
    }
   ],
   "source": [
    "#exemplo de uso:\n",
    "print('8 é maior que 7:', 8 > 7 )\n",
    "print('8 é menor que 7:', 8 < 7 )\n",
    "print('8 é igual 7:', 8 == 7 )\n",
    "print('10 é maior 10:', 10 > 10 )\n",
    "print('10 é maior ou igual à 10:', 10 >= 10 )\n",
    "print('10 é menor 10:', 10 < 10 )\n",
    "print('10 é menor ou igual à 10:', 10 <= 10 )"
   ]
  },
  {
   "cell_type": "markdown",
   "id": "38ca65b3-fd1a-46dc-99c1-a98c3afe0570",
   "metadata": {},
   "source": [
    "### Booleanos:"
   ]
  },
  {
   "cell_type": "code",
   "execution_count": null,
   "id": "f93eddb7-267c-4292-8caa-ca29ce61665f",
   "metadata": {},
   "outputs": [],
   "source": [
    "# Os operadores booleanos nos permitem comparar variaveis de forma logica, sendo estes:\n",
    "\n",
    "#and ( e )\n",
    "#or  ( ou )\n",
    "#not ( nao )\n",
    "\n",
    "#ps:\n",
    "#and (Retorna True se ambas as declarações forem verdadeiras)\n",
    "#or  (Retorna True se uma das declarações for verdadeira)"
   ]
  },
  {
   "cell_type": "code",
   "execution_count": 35,
   "id": "e4f601e3-9e57-4e49-b5e7-57978cb744c0",
   "metadata": {},
   "outputs": [
    {
     "name": "stdout",
     "output_type": "stream",
     "text": [
      "8 é maior que 7 e 7 maior que 8: False\n",
      "8 é maior que 7 e 7 menor que 8: True\n",
      "8 é maior que 7 ou 7 menor que 8: False\n",
      "8 é maior que 7 ou 7 menor que 8: True\n"
     ]
    }
   ],
   "source": [
    "#exemplo de uso:\n",
    "print('8 é maior que 7 e 7 maior que 8:', 8 > 7 and 7 > 8 )\n",
    "print('8 é maior que 7 e 7 menor que 8:', 8 > 7 and 7 < 8 )\n",
    "print('8 é maior que 7 ou 7 menor que 8:', 8 == 7 or 7 == 8 )\n",
    "print('8 é maior que 7 ou 7 menor que 8:', 8 > 7 or 7 > 8 )"
   ]
  },
  {
   "cell_type": "markdown",
   "id": "44000b90-2b11-499f-8da4-4828b538bd0e",
   "metadata": {},
   "source": [
    "### Indentidade:"
   ]
  },
  {
   "cell_type": "code",
   "execution_count": 36,
   "id": "a2686d1f-35cc-43ad-857b-f0005e6efb1e",
   "metadata": {},
   "outputs": [],
   "source": [
    "# Os operadores de identidade são usados para comparar os objetos, não se forem iguais, mas se forem realmente o mesmo objeto\n",
    "# com a mesma localização de memória:\n",
    "\n",
    "# is (Retorna True se ambas as variáveis forem o mesmo objeto)\n",
    "# is not (Retorna True se ambas as variáveis não forem o mesmo objeto)"
   ]
  },
  {
   "cell_type": "code",
   "execution_count": 40,
   "id": "ff20f5e9-038a-4877-ab89-f14248938d7c",
   "metadata": {},
   "outputs": [
    {
     "name": "stdout",
     "output_type": "stream",
     "text": [
      "False\n",
      "True\n"
     ]
    }
   ],
   "source": [
    "#exemplo de uso:\n",
    "String_01 = str('move_average')\n",
    "String_02 = str('teste_hip')\n",
    "\n",
    "print(String_01 is String_02 )\n",
    "print(type(String_01) is type(String_02))"
   ]
  },
  {
   "cell_type": "markdown",
   "id": "3a507f7a-8a11-4526-b719-c365359f2b7b",
   "metadata": {},
   "source": [
    "### Associativos:"
   ]
  },
  {
   "cell_type": "code",
   "execution_count": 41,
   "id": "39d62a3c-d079-41f5-97b8-71c4afcf8292",
   "metadata": {},
   "outputs": [],
   "source": [
    "#Os operadores de associação são usados para testar se uma sequência é apresentada em um objeto:\n",
    "\n",
    "#in        (Retorna True se uma sequência com o valor especificado estiver presente no objeto)\n",
    "#not in    (Retorna True se uma sequência com o valor especificado não estiver presente no objeto)"
   ]
  },
  {
   "cell_type": "code",
   "execution_count": 42,
   "id": "07db3763-be43-4360-9542-d0e53dff6e51",
   "metadata": {},
   "outputs": [
    {
     "name": "stdout",
     "output_type": "stream",
     "text": [
      "True\n"
     ]
    }
   ],
   "source": [
    "#exemplo de uso:\n",
    "\n",
    "name = 'Bruno'\n",
    "print( 'ru' in name )"
   ]
  },
  {
   "cell_type": "markdown",
   "id": "e9333479-c534-4101-8516-3977ab20a3e3",
   "metadata": {},
   "source": [
    "___"
   ]
  },
  {
   "cell_type": "markdown",
   "id": "a1060c2f-e41d-4805-a53b-3f824152be18",
   "metadata": {
    "tags": [],
    "toc-hr-collapsed": true
   },
   "source": [
    "## Estruturas de Comparacao:\n",
    "\n",
    "__Definicao:__\n",
    "\n",
    "Estruturas de comparacao nos permitem comparar suposicoes elas basicamente funcionam com a estrtura:\n",
    "\n",
    "se (condicao ) entao (tarefa)    \n",
    ">se nao entao (tarefa)  \n",
    "\n",
    "podem ser:  \n",
    ">if - else - elif"
   ]
  },
  {
   "cell_type": "markdown",
   "id": "91f1aa45-0184-4a98-a0ce-ea237f1c9c40",
   "metadata": {},
   "source": [
    "### IF:"
   ]
  },
  {
   "cell_type": "code",
   "execution_count": 46,
   "id": "d798046b-2de5-48b7-b3b2-c5800754fb68",
   "metadata": {
    "tags": []
   },
   "outputs": [
    {
     "name": "stdout",
     "output_type": "stream",
     "text": [
      "O animal é um gato!\n"
     ]
    }
   ],
   "source": [
    "#Exemplo 01:\n",
    "#Se animal for um gato entao ele mostra o print() na tela.\n",
    "animal = 'gato'\n",
    "if animal == 'gato':\n",
    "    print('O animal é um gato!')   "
   ]
  },
  {
   "cell_type": "markdown",
   "id": "9e090585-694b-42a2-86d2-8b242e9c3837",
   "metadata": {},
   "source": [
    "### IF-ELSE"
   ]
  },
  {
   "cell_type": "code",
   "execution_count": 47,
   "id": "382b5788-3160-4ba5-8d0a-234027f05b54",
   "metadata": {},
   "outputs": [
    {
     "name": "stdout",
     "output_type": "stream",
     "text": [
      "o animal nao é um gato!\n"
     ]
    }
   ],
   "source": [
    "#Exemplo 02:\n",
    "#Se o animal nao for um gato ele mostra na tela que o animal nao e um gato.\n",
    "animal = 'cachorro'\n",
    "if animal == 'gato':\n",
    "    print('O animal é um gato!') \n",
    "else: \n",
    "    print('o animal nao é um gato!')"
   ]
  },
  {
   "cell_type": "markdown",
   "id": "ce1986ad-d0ef-428c-ad7b-17d0443d6f99",
   "metadata": {},
   "source": [
    "### IF - ELIF"
   ]
  },
  {
   "cell_type": "code",
   "execution_count": 48,
   "id": "cb58e78a-5421-44cd-aa41-689010a216ac",
   "metadata": {},
   "outputs": [
    {
     "name": "stdout",
     "output_type": "stream",
     "text": [
      "O animal é um cachorro!\n"
     ]
    }
   ],
   "source": [
    "#Exemplo 03:\n",
    "#Se o animal nao for um gato mas for um cachorro ele mostra na tela que o animal e um cachorro\n",
    "\n",
    "animal = 'cachorro'\n",
    "if animal == 'gato':\n",
    "    print('O animal é um gato!')\n",
    "elif animal == 'cachorro':\n",
    "    print('O animal é um cachorro!')"
   ]
  },
  {
   "cell_type": "markdown",
   "id": "42baece7-68fa-4b5b-9dd9-27bc5f3b011f",
   "metadata": {},
   "source": [
    "### IF - ELIF - ELSE"
   ]
  },
  {
   "cell_type": "code",
   "execution_count": 49,
   "id": "a80aadc5-395e-4047-bb8d-0d7264fb1d7a",
   "metadata": {},
   "outputs": [
    {
     "name": "stdout",
     "output_type": "stream",
     "text": [
      "O animal nao é um gato e nem um cahorro!\n"
     ]
    }
   ],
   "source": [
    "#Exemplo 04:\n",
    "#Se o animal nao for um gato e nao for um cachorro ele mostra na tela que o animal nao e um gato e nem um cahorro\n",
    "\n",
    "animal = 'gaviao'\n",
    "if animal == 'gato':\n",
    "    print('O animal é um gato!')\n",
    "elif animal == 'cachorro':\n",
    "    print('O animal é um cachorro!')\n",
    "else:\n",
    "    print('O animal nao é um gato e nem um cahorro!')"
   ]
  },
  {
   "cell_type": "markdown",
   "id": "58ae1f71-5aa1-42ac-b381-e8a8e8f6affa",
   "metadata": {},
   "source": [
    "___"
   ]
  },
  {
   "cell_type": "markdown",
   "id": "ad8eaec1-fdd4-4da5-832a-98ca2ea6028b",
   "metadata": {
    "tags": []
   },
   "source": [
    "## Estruturas de Loop:\n",
    "\n",
    "__Definicao:__\n",
    "\n",
    "loops nos servem para percorrer determinadas estruturas de dados dentre outras aplicacoes no python existem 2 tipos de loops. \n",
    "\n",
    "for -> chamado de iteracao definida da qual no inicio do loop ja se sabe o numero de repeticoes.  \n",
    "while -> chamado de iteracao indefinida da qual no inicio do loop nao se sabe o numero de repeticoes.\n",
    "\n",
    "ps: utilize a funcao __range()__ para determinar o inicio, fim, steps do loop."
   ]
  },
  {
   "cell_type": "markdown",
   "id": "7285aa5c-2f76-45e0-a479-96505293f996",
   "metadata": {
    "tags": []
   },
   "source": [
    "### Loop For | in:"
   ]
  },
  {
   "cell_type": "code",
   "execution_count": 52,
   "id": "d6322dc6-3ce3-4472-86b6-b8b539393cdc",
   "metadata": {},
   "outputs": [
    {
     "name": "stdout",
     "output_type": "stream",
     "text": [
      "0\n",
      "1\n",
      "2\n",
      "3\n",
      "4\n",
      "5\n",
      "6\n",
      "7\n",
      "8\n",
      "9\n",
      "fim loop\n"
     ]
    }
   ],
   "source": [
    "# For [ Loop ]\n",
    "# o presente loop realiza o print dos numeros de 0 a 9.\n",
    "for x in range(0,10,1):\n",
    "    print(x) \n",
    "else:\n",
    "    print('fim loop')"
   ]
  },
  {
   "cell_type": "markdown",
   "id": "6e3492c1-3df2-4847-9292-88836eeca415",
   "metadata": {
    "tags": []
   },
   "source": [
    "### Loop While:"
   ]
  },
  {
   "cell_type": "code",
   "execution_count": 54,
   "id": "104742ac-e089-4c01-aa0e-910e7c90b64c",
   "metadata": {},
   "outputs": [
    {
     "name": "stdout",
     "output_type": "stream",
     "text": [
      "0\n",
      "1\n",
      "2\n",
      "3\n",
      "4\n",
      "5\n",
      "6\n",
      "7\n",
      "8\n",
      "9\n",
      "10\n",
      "fim loop\n"
     ]
    }
   ],
   "source": [
    "# While [ Loop ]\n",
    "# o presente loop realiza o print dos numeros de 0 ate 9.\n",
    "# o loop funciona realizando o incremento da var acc de 0 ate 10, quando a condicao nao for mais verdadeira ele sai do loop.\n",
    "\n",
    "acc = 0\n",
    "while acc <= 10:\n",
    "    print(acc)\n",
    "    acc += 1\n",
    "else:\n",
    "    print('fim loop')"
   ]
  },
  {
   "cell_type": "markdown",
   "id": "7217cc3e-cfec-4b38-95e8-524b5c7edb8b",
   "metadata": {
    "tags": []
   },
   "source": [
    "### Comandos Break e Continue:\n",
    "\n",
    "Os comandos break e pass nos permitem interromper a execucao do loop  e continuar a execucao do mesmo."
   ]
  },
  {
   "cell_type": "code",
   "execution_count": 119,
   "id": "e44d77cd-4f07-41af-b275-4724a2a63143",
   "metadata": {},
   "outputs": [
    {
     "name": "stdout",
     "output_type": "stream",
     "text": [
      "Chegou em  9 loop interrompido\n"
     ]
    }
   ],
   "source": [
    "#O presente codigo realiza a interrupcao do loop ao chegar no numero 9.\n",
    "\n",
    "for P in range(10):\n",
    "    if P == 9:\n",
    "        print('Chegou em ', P, 'loop interrompido')\n",
    "        break\n",
    "    else:\n",
    "        continue"
   ]
  },
  {
   "cell_type": "markdown",
   "id": "956748be-d65e-42c0-a53c-aa824f926ee0",
   "metadata": {},
   "source": [
    "___"
   ]
  },
  {
   "cell_type": "markdown",
   "id": "0f7cbf5f-4372-42d8-8671-04889a99f9f2",
   "metadata": {
    "tags": []
   },
   "source": [
    "## Estrututuras de Dados:\n",
    "\n",
    "__Definicao:__  \n",
    "\n",
    "Estruturas de dados como nos permitem armazenar uma serie de variaveis, objetos e tipos de dados.\n",
    "\n",
    "Em python, temos 3 tipos de estruturas de dados:\n",
    "- listas \n",
    "- tuplas \n",
    "- dicionarios "
   ]
  },
  {
   "cell_type": "markdown",
   "id": "092d0275-9d59-4439-b42d-40aae4d81c09",
   "metadata": {},
   "source": [
    "### Listas:\n",
    "listas são usadas para armazenar vários itens em uma única variável.  \n",
    "Pode aumentar e diminuir o numero de itens.  \n",
    "Pode modificar o valor de um elemento.  \n",
    "Usa-se []  \n"
   ]
  },
  {
   "cell_type": "code",
   "execution_count": 73,
   "id": "03508a72-33e4-4c61-ab5e-5a7df336d231",
   "metadata": {},
   "outputs": [
    {
     "name": "stdout",
     "output_type": "stream",
     "text": [
      "['Bruno', 26, 'Brasil', 'Quant']\n"
     ]
    }
   ],
   "source": [
    "#Declarando uma lista Elementos ja escritos:\n",
    "lista = ['Bruno',26,'Brasil','Quant']\n",
    "print(lista)"
   ]
  },
  {
   "cell_type": "code",
   "execution_count": 110,
   "id": "8b8a13b3-c3f4-4460-a95f-b4e61159fb57",
   "metadata": {},
   "outputs": [
    {
     "name": "stdout",
     "output_type": "stream",
     "text": [
      "Lista antes: []\n",
      "Lista depois: ['Bruno', 26, 'Brasil', 'Quant']\n",
      "['Bruno', 26, 'Brasil', 'SP', 'Quant'] \n",
      "\n",
      "lista extendida ['Bruno', 26, 'Brasil', 'SP', 'Quant', 'Frio', 'Programacao', 'Investimentos', 'Machine Leraning', 'Blues', 'Filmes']\n"
     ]
    }
   ],
   "source": [
    "#Inserindo Elementos na Lista\n",
    "\n",
    "#Declarando uma lista do zero\n",
    "lista = [] \n",
    "print('Lista antes:',lista)\n",
    "\n",
    "#Adicionando elementos a lista\n",
    "lista.append('Bruno')\n",
    "lista.append(26)\n",
    "lista.append('Brasil')\n",
    "lista.append('Quant')\n",
    "\n",
    "print('Lista depois:',lista)\n",
    "\n",
    "#Inserindo um valor com uma posição\n",
    "lista.insert( 3, 'SP')\n",
    "print(lista, '\\n' )\n",
    "\n",
    "#Inserindo uma lista dentro da lista:\n",
    "lista_2 = ['Frio','Programacao','Investimentos','Machine Leraning','Blues','Filmes']\n",
    "lista.extend(lista_2)\n",
    "print('lista extendida', lista)"
   ]
  },
  {
   "cell_type": "code",
   "execution_count": 111,
   "id": "0ae552e1-ec3b-4a80-8cef-305270b2ab3b",
   "metadata": {},
   "outputs": [
    {
     "name": "stdout",
     "output_type": "stream",
     "text": [
      "numero de elementos:  11\n",
      "primeiro elemento:  Bruno\n",
      "segundo elemento:  26\n",
      "ultimo elemento:  Filmes\n",
      "Intervalo:  ['Bruno', 26]\n",
      "Indice do elemento Bruno: 0\n",
      "['Bruno', 26, 'Brasil', 'SP', 'Quant', 'Frio', 'Programacao', 'Investimentos', 'Machine Leraning', 'Blues', 'Filmes']\n"
     ]
    }
   ],
   "source": [
    "#Acessando elementos da lista\n",
    "\n",
    "#para saber o tamanho da lista - utilize: len(lista)\n",
    "print('numero de elementos: ',len(lista))\n",
    "\n",
    "#acessando os elementos da lista:\n",
    "#no python temos indexacao iniciando do 0, logo o primeiro elemento e tem o indice 0.\n",
    "\n",
    "#acessando o primeiro elemento:\n",
    "print('primeiro elemento: ', lista[0])\n",
    "\n",
    "#acessando o segundo elemento:\n",
    "print('segundo elemento: ', lista[1])\n",
    "\n",
    "#acessando o ultimo numero -1:\n",
    "print('ultimo elemento: ', lista[-1])\n",
    "\n",
    "#acessando intervalos:\n",
    "print('Intervalo: ', lista[0:2])\n",
    "\n",
    "#acessando o indice da lista base o elemento\n",
    "print('Indice do elemento Bruno:', lista.index('Bruno'))\n",
    "\n",
    "#Copiar uma Lista\n",
    "lista_2 = lista.copy()\n",
    "print(lista_2)"
   ]
  },
  {
   "cell_type": "code",
   "execution_count": 112,
   "id": "d5809b8e-8553-45c5-bb8d-b059d7498639",
   "metadata": {},
   "outputs": [
    {
     "name": "stdout",
     "output_type": "stream",
     "text": [
      "lista antes ['Bruno', 26, 'Brasil', 'SP', 'Quant', 'Frio', 'Programacao', 'Investimentos', 'Machine Leraning', 'Blues', 'Filmes']\n",
      "Depois da exclusão: ['Bruno', 'Brasil', 'SP', 'Quant', 'Frio', 'Programacao', 'Investimentos', 'Machine Leraning', 'Blues', 'Filmes']\n",
      "['Bruno', 'SP', 'Quant', 'Frio', 'Programacao', 'Investimentos', 'Machine Leraning', 'Blues', 'Filmes']\n",
      "['Bruno', 'SP', 'Quant', 'Frio', 'Programacao', 'Machine Leraning', 'Blues', 'Filmes']\n",
      "Depois da Limpeza: None\n"
     ]
    }
   ],
   "source": [
    "#Removendo Elementos da Lista\n",
    "\n",
    "print('lista antes',lista)\n",
    "\n",
    "#removendo elementos da lista\n",
    "del lista[1]\n",
    "print('Depois da exclusão:', lista)\n",
    "\n",
    "#Removendo itens especifico pelo nome\n",
    "lista.remove('Brasil')\n",
    "print(lista)\n",
    "\n",
    "#Removendo itens pelo index\n",
    "lista.pop(5)\n",
    "print(lista,)\n",
    "\n",
    "#limpando a lista\n",
    "print('Depois da Limpeza:', lista.clear())"
   ]
  },
  {
   "cell_type": "markdown",
   "id": "5fd7d0d8-a611-4f8d-be8c-5a5df3ac11e8",
   "metadata": {},
   "source": [
    "__Resumo Funcoes Listas:__\n",
    "\n",
    "- append() - Para adicionar um item ao final da lista\n",
    "- len()    - Calcular o tamanho da lista\n",
    "- clear()  - Limpar a lista\n",
    "- insert() - Para inserir um item de lista em um índice especificado\n",
    "- extend() - Anexar elementos de outra lista à lista atual\n",
    "- remove() - Remove o item especificado\n",
    "- pop()    - Remove o índice especificado.\n",
    "- sort()   - Ordenar os valores\n",
    "- copy()   - Faz uma copia da Lista\n",
    "- index()  - Retorna o index do elemento da lista\n",
    "- range()  - Retorna um range de numeros."
   ]
  },
  {
   "cell_type": "markdown",
   "id": "dee166c7-8490-4e8f-a1b5-2eaabb8b8c87",
   "metadata": {},
   "source": [
    "### Tuplas:\n",
    "\n",
    "nao permite alteracoes.  \n",
    "usa-se quando é necessario usar dados fixo.  \n",
    "processamento mais rapido.  \n",
    "Usa-se ()."
   ]
  },
  {
   "cell_type": "code",
   "execution_count": 113,
   "id": "3e1c09b5-c6ab-4845-aec6-97617d2dc2d2",
   "metadata": {},
   "outputs": [
    {
     "name": "stdout",
     "output_type": "stream",
     "text": [
      "(0, 1, 2, 2, 4)\n"
     ]
    }
   ],
   "source": [
    "#declara tupla vazia\n",
    "tupla = ()\n",
    "\n",
    "#adciona elementos a tupla\n",
    "tupla = (0,1,2,2,4)\n",
    "\n",
    "print(tupla)"
   ]
  },
  {
   "cell_type": "markdown",
   "id": "a81895a1-cf54-4a08-be73-84746378863c",
   "metadata": {},
   "source": [
    "### Dicionarios:\n",
    "\n",
    "possuem chave-nome(valor).  \n",
    "mutaveis.  \n",
    "nao aceitam valores duplicados.  \n",
    "inicia com {'chave':'nome'}.  "
   ]
  },
  {
   "cell_type": "code",
   "execution_count": 118,
   "id": "70bf6396-0279-4e8b-9830-75c309f0fabf",
   "metadata": {},
   "outputs": [
    {
     "name": "stdout",
     "output_type": "stream",
     "text": [
      "Bruno\n",
      "True\n",
      "{'nome': 'Bruno', 'Formacao': 'Engenheiro', 'Profissao': 'Quant', 'pos': 'mestre em mat-est-quant'}\n"
     ]
    }
   ],
   "source": [
    "dic = {'nome':'Bruno', 'Formacao': 'Engenheiro', 'Profissao':'Quant'}\n",
    "\n",
    "#acessando chave-valores\n",
    "print(dic.get('nome'))\n",
    "\n",
    "#ou\n",
    "print('nome' in dic) #retorna true se sim \n",
    "\n",
    "#adicionando itens \n",
    "dic['pos'] = 'mestre em mat-est-quant'\n",
    "print(dic)"
   ]
  },
  {
   "cell_type": "markdown",
   "id": "04508970-d6e6-4bb5-9340-fdc6f0143d1f",
   "metadata": {},
   "source": [
    "___"
   ]
  },
  {
   "cell_type": "markdown",
   "id": "1e9c85e4-3ffe-498d-bd29-0066514e352e",
   "metadata": {
    "tags": []
   },
   "source": [
    "## Funcoes:\n",
    "\n",
    "Funcoes nos permitem automatizar tarefas repetitivas durante o nosso desenvolvimento, sendo assim muito uteis para o nosso codigo.\n",
    "\n",
    "basicamente a estrtutura de uma funcao em python segue a ordem:"
   ]
  },
  {
   "cell_type": "markdown",
   "id": "29387421-3a26-48c4-981a-db214e32d8d8",
   "metadata": {
    "tags": []
   },
   "source": [
    "### Criando Funcoes:"
   ]
  },
  {
   "cell_type": "code",
   "execution_count": 120,
   "id": "175dcbfc-9df9-4025-bc1c-93fd88202cee",
   "metadata": {},
   "outputs": [],
   "source": [
    "def funcao(var_1, var_2,var_3):\n",
    "    #escopo - atividades e tarefas que a funcao vai realizar\n",
    "    return print('fim funcao') # sinaliza o fim da funcao pode retornar uma variavel ou estrutura de dados."
   ]
  },
  {
   "cell_type": "code",
   "execution_count": 123,
   "id": "54c9f117-e01a-4e00-af25-7d340bd4a19c",
   "metadata": {},
   "outputs": [
    {
     "name": "stdout",
     "output_type": "stream",
     "text": [
      "media igual a 2.0\n"
     ]
    }
   ],
   "source": [
    "#exemplo criando uma funcao para calcular a media dos numeros.\n",
    "\n",
    "#declarando a funcao\n",
    "def media(var_1,var_2):\n",
    "    med = (var_1 + var_2)/2\n",
    "    return med\n",
    "\n",
    "#chamando a funcao\n",
    "print('media igual a', media(2,2))"
   ]
  },
  {
   "cell_type": "markdown",
   "id": "2b90a9ae-a7e4-43ee-88c2-d65aaff2b1d8",
   "metadata": {},
   "source": [
    "### Funcoes nativas do python:\n",
    "\n",
    "Funções nativas do Python são usadas o tempo todo, já usávamos antes mesmo de saber que eram funções.\n",
    "\n",
    "- Print():Mostra um valor para o usuário => Não retorna dado, então não possui return.  \n",
    "- List():Cria uma lista => Retorna um dado, então é uma função com return.  \n",
    "- Int():É uma função de cast (conversão de dado) que transforma o tipo do dado em inteiro.  \n",
    "- Str():É uma função de cast (conversão de dado) que transforma o tipo da variavel para string.  \n",
    "- Float():É uma função de cast (conversão de dado) que transforma o tipo da variavel para float.  \n",
    "- Bool():É uma função de cast (conversão de dado) que transforma o tipo da variável para booleano.  \n",
    "- Type():Mostra o tipo do dado.  \n",
    "- Dir():Mostra as 'opções' de um determinado parâmetro (variável/classe/função).  \n",
    "- Help():Mostra uma ajuda para determinada função/classe/variável.  \n",
    "- round(): arredonda um numero.  "
   ]
  },
  {
   "cell_type": "code",
   "execution_count": 124,
   "id": "d20fa02c-38db-4f60-8eae-38fcbad026cc",
   "metadata": {
    "collapsed": true,
    "jupyter": {
     "outputs_hidden": true
    },
    "tags": []
   },
   "outputs": [
    {
     "data": {
      "text/plain": [
       "['ArithmeticError',\n",
       " 'AssertionError',\n",
       " 'AttributeError',\n",
       " 'BaseException',\n",
       " 'BlockingIOError',\n",
       " 'BrokenPipeError',\n",
       " 'BufferError',\n",
       " 'BytesWarning',\n",
       " 'ChildProcessError',\n",
       " 'ConnectionAbortedError',\n",
       " 'ConnectionError',\n",
       " 'ConnectionRefusedError',\n",
       " 'ConnectionResetError',\n",
       " 'DeprecationWarning',\n",
       " 'EOFError',\n",
       " 'Ellipsis',\n",
       " 'EnvironmentError',\n",
       " 'Exception',\n",
       " 'False',\n",
       " 'FileExistsError',\n",
       " 'FileNotFoundError',\n",
       " 'FloatingPointError',\n",
       " 'FutureWarning',\n",
       " 'GeneratorExit',\n",
       " 'IOError',\n",
       " 'ImportError',\n",
       " 'ImportWarning',\n",
       " 'IndentationError',\n",
       " 'IndexError',\n",
       " 'InterruptedError',\n",
       " 'IsADirectoryError',\n",
       " 'KeyError',\n",
       " 'KeyboardInterrupt',\n",
       " 'LookupError',\n",
       " 'MemoryError',\n",
       " 'ModuleNotFoundError',\n",
       " 'NameError',\n",
       " 'None',\n",
       " 'NotADirectoryError',\n",
       " 'NotImplemented',\n",
       " 'NotImplementedError',\n",
       " 'OSError',\n",
       " 'OverflowError',\n",
       " 'PendingDeprecationWarning',\n",
       " 'PermissionError',\n",
       " 'ProcessLookupError',\n",
       " 'RecursionError',\n",
       " 'ReferenceError',\n",
       " 'ResourceWarning',\n",
       " 'RuntimeError',\n",
       " 'RuntimeWarning',\n",
       " 'StopAsyncIteration',\n",
       " 'StopIteration',\n",
       " 'SyntaxError',\n",
       " 'SyntaxWarning',\n",
       " 'SystemError',\n",
       " 'SystemExit',\n",
       " 'TabError',\n",
       " 'TimeoutError',\n",
       " 'True',\n",
       " 'TypeError',\n",
       " 'UnboundLocalError',\n",
       " 'UnicodeDecodeError',\n",
       " 'UnicodeEncodeError',\n",
       " 'UnicodeError',\n",
       " 'UnicodeTranslateError',\n",
       " 'UnicodeWarning',\n",
       " 'UserWarning',\n",
       " 'ValueError',\n",
       " 'Warning',\n",
       " 'WindowsError',\n",
       " 'ZeroDivisionError',\n",
       " '__IPYTHON__',\n",
       " '__build_class__',\n",
       " '__debug__',\n",
       " '__doc__',\n",
       " '__import__',\n",
       " '__loader__',\n",
       " '__name__',\n",
       " '__package__',\n",
       " '__spec__',\n",
       " 'abs',\n",
       " 'all',\n",
       " 'any',\n",
       " 'ascii',\n",
       " 'bin',\n",
       " 'bool',\n",
       " 'breakpoint',\n",
       " 'bytearray',\n",
       " 'bytes',\n",
       " 'callable',\n",
       " 'chr',\n",
       " 'classmethod',\n",
       " 'compile',\n",
       " 'complex',\n",
       " 'copyright',\n",
       " 'credits',\n",
       " 'delattr',\n",
       " 'dict',\n",
       " 'dir',\n",
       " 'display',\n",
       " 'divmod',\n",
       " 'enumerate',\n",
       " 'eval',\n",
       " 'exec',\n",
       " 'execfile',\n",
       " 'filter',\n",
       " 'float',\n",
       " 'format',\n",
       " 'frozenset',\n",
       " 'get_ipython',\n",
       " 'getattr',\n",
       " 'globals',\n",
       " 'hasattr',\n",
       " 'hash',\n",
       " 'help',\n",
       " 'hex',\n",
       " 'id',\n",
       " 'input',\n",
       " 'int',\n",
       " 'isinstance',\n",
       " 'issubclass',\n",
       " 'iter',\n",
       " 'len',\n",
       " 'license',\n",
       " 'list',\n",
       " 'locals',\n",
       " 'map',\n",
       " 'max',\n",
       " 'memoryview',\n",
       " 'min',\n",
       " 'next',\n",
       " 'object',\n",
       " 'oct',\n",
       " 'open',\n",
       " 'ord',\n",
       " 'pow',\n",
       " 'print',\n",
       " 'property',\n",
       " 'range',\n",
       " 'repr',\n",
       " 'reversed',\n",
       " 'round',\n",
       " 'runfile',\n",
       " 'set',\n",
       " 'setattr',\n",
       " 'slice',\n",
       " 'sorted',\n",
       " 'staticmethod',\n",
       " 'str',\n",
       " 'sum',\n",
       " 'super',\n",
       " 'tuple',\n",
       " 'type',\n",
       " 'vars',\n",
       " 'zip']"
      ]
     },
     "execution_count": 124,
     "metadata": {},
     "output_type": "execute_result"
    }
   ],
   "source": [
    "#para consultar todas as funcoes bultin(nativas), utilize:\n",
    "dir(__builtin__)"
   ]
  },
  {
   "cell_type": "code",
   "execution_count": 125,
   "id": "ce6ca955-f9e9-43ef-8911-02af3995be15",
   "metadata": {},
   "outputs": [
    {
     "name": "stdout",
     "output_type": "stream",
     "text": [
      "Help on class zip in module builtins:\n",
      "\n",
      "class zip(object)\n",
      " |  zip(*iterables) --> A zip object yielding tuples until an input is exhausted.\n",
      " |  \n",
      " |     >>> list(zip('abcdefg', range(3), range(4)))\n",
      " |     [('a', 0, 0), ('b', 1, 1), ('c', 2, 2)]\n",
      " |  \n",
      " |  The zip object yields n-length tuples, where n is the number of iterables\n",
      " |  passed as positional arguments to zip().  The i-th element in every tuple\n",
      " |  comes from the i-th iterable argument to zip().  This continues until the\n",
      " |  shortest argument is exhausted.\n",
      " |  \n",
      " |  Methods defined here:\n",
      " |  \n",
      " |  __getattribute__(self, name, /)\n",
      " |      Return getattr(self, name).\n",
      " |  \n",
      " |  __iter__(self, /)\n",
      " |      Implement iter(self).\n",
      " |  \n",
      " |  __next__(self, /)\n",
      " |      Implement next(self).\n",
      " |  \n",
      " |  __reduce__(...)\n",
      " |      Return state information for pickling.\n",
      " |  \n",
      " |  ----------------------------------------------------------------------\n",
      " |  Static methods defined here:\n",
      " |  \n",
      " |  __new__(*args, **kwargs) from builtins.type\n",
      " |      Create and return a new object.  See help(type) for accurate signature.\n",
      "\n"
     ]
    }
   ],
   "source": [
    "#utilize o help para saber como funciona a determinada funcao.\n",
    "help(zip)"
   ]
  },
  {
   "cell_type": "markdown",
   "id": "3302df93-48d6-4894-824a-c26b5ba1965a",
   "metadata": {},
   "source": [
    "___"
   ]
  },
  {
   "cell_type": "markdown",
   "id": "395e7ad0-65b7-4321-b30f-113c7dba0a70",
   "metadata": {},
   "source": [
    "## Classes e Objetos:\n",
    "\n",
    "__Definicao:(Classe)__\n",
    "\n",
    "Classe pode ser considerada como uma estrutura de dados que possui:\n",
    "\n",
    "- Instancia de atributos\n",
    "- Instancia de metodos\n",
    "- Classes aninhadas\n",
    "\n",
    "Classes   -> Representação.  \n",
    "Atributos -> Variáveis.  \n",
    "Métodos   -> Funções.  \n",
    "\n",
    "__Exemplo:__ \n",
    "\n",
    "Classe __Carro:__\n",
    ">__Atributos:__  \n",
    ">>Modelo  \n",
    ">>Ano  \n",
    ">>Estado  \n",
    "\n",
    ">__Metodos:__\n",
    ">>liga_desliga()  \n",
    ">>acelerar()  \n",
    ">>test_drive()  \n",
    ">>comprar()  \n",
    "\n",
    "__----------------------__  \n",
    "\n",
    "__Definicao:(Objeto)__\n",
    "\n",
    "Estrutura criada a partir da classe, um objeto da classe recebe de heranca todos os metodos e atributos da classe.\n",
    "\n",
    "__Exemplo:__ \n",
    "\n",
    "Objeto = Instancias da Classe (representações/variaveis da classe)\n",
    "- Variável do tipo carro.\n",
    "\n",
    "Carro.bmw -> Neste momento foi criado uma variavel do tipo carro chamada bmw que possui todos atribuos e metodos da variavel Carro.\n"
   ]
  },
  {
   "cell_type": "code",
   "execution_count": 131,
   "id": "d3823bcd-bd7a-444b-8c58-931a072b169a",
   "metadata": {},
   "outputs": [
    {
     "name": "stdout",
     "output_type": "stream",
     "text": [
      "O valor do estado do fusca é:    usado\n",
      "O tipo do fusca é:               <class '__main__.Carro'>\n",
      "O valor do estado da ferrari é:  novo\n",
      "O tipo da ferrari é:             <class '__main__.Carro'>\n"
     ]
    }
   ],
   "source": [
    "#Declarando Classe\n",
    "\n",
    "class Carro(object):\n",
    "    estado = 'novo'\n",
    "    \n",
    "fusca = Carro()\n",
    "fusca.estado = 'usado'\n",
    "print('O valor do estado do fusca é:   ',fusca.estado) # Valor do Atributo\n",
    "print('O tipo do fusca é:              ',type(fusca)) # Tipo do Objeto\n",
    "\n",
    "ferrari = Carro()\n",
    "ferrari.estado = 'novo'\n",
    "print('O valor do estado da ferrari é: ',ferrari.estado) # Valor do Atributo\n",
    "print('O tipo da ferrari é:            ',type(ferrari)) # Tipo do Objeto"
   ]
  },
  {
   "cell_type": "code",
   "execution_count": 132,
   "id": "a69b8af2-9bc7-4d09-837e-d9bec52b3e48",
   "metadata": {},
   "outputs": [],
   "source": [
    "#SELF\n",
    "class Carro(object):\n",
    "    estado = 'novo'\n",
    "    \n",
    "    def dirigir(self):\n",
    "        self.estado = 'usado' # Modifica apenas no objeto que chamar o método"
   ]
  },
  {
   "cell_type": "code",
   "execution_count": 133,
   "id": "31e787fd-8f12-4fd7-81ed-670c018dabf4",
   "metadata": {},
   "outputs": [
    {
     "name": "stdout",
     "output_type": "stream",
     "text": [
      "usado\n",
      "novo\n"
     ]
    }
   ],
   "source": [
    "# Exemplo 1\n",
    "bmw = Carro() # Criou com o estado novo\n",
    "bmw.dirigir() # Modifiquei o estado para usado\n",
    "print(bmw.estado) # Passa a ser usado\n",
    "\n",
    "# Exemplo\n",
    "ferrari = Carro() # Criou com o estado novo\n",
    "print(ferrari.estado) # Continua como novo"
   ]
  },
  {
   "cell_type": "code",
   "execution_count": 134,
   "id": "c42d9a80-49e1-4bdb-96b7-425030e42659",
   "metadata": {},
   "outputs": [
    {
     "name": "stdout",
     "output_type": "stream",
     "text": [
      "A BMW tem o estado: semi-novo\n",
      "A Ferrari tem o estado: novo\n",
      "O Fusca tem o estado: usado\n"
     ]
    }
   ],
   "source": [
    "#Construtor\n",
    "#O constutor de calsse no Python é chamado de init e ele é usado para criar uma nova instância do objeto.\n",
    "#Caso usarmos algum parâmetro no construtor, torna-se obrigatório o envio desse parâmetro na hora da criação do objeto.\n",
    "#Com isso, podemos criar valores padrões para nossos objetos\n",
    "# Criar + Modifica => Cada um já tem seu próprio estado inicial\n",
    "\n",
    "class Carro(object):\n",
    "    def __init__(self, parametro_estado): # Constutor\n",
    "        self.estado = parametro_estado\n",
    "        \n",
    "bmw = Carro('semi-novo')\n",
    "ferrari = Carro('novo')\n",
    "fusca = Carro('usado')\n",
    "\n",
    "print(\"A BMW tem o estado:\",bmw.estado)\n",
    "print(\"A Ferrari tem o estado:\",ferrari.estado)\n",
    "print(\"O Fusca tem o estado:\",fusca.estado)\n",
    "\n"
   ]
  },
  {
   "cell_type": "code",
   "execution_count": null,
   "id": "cefe3e86-c6eb-4cab-91df-839f6f492f63",
   "metadata": {},
   "outputs": [],
   "source": []
  }
 ],
 "metadata": {
  "kernelspec": {
   "display_name": "Python 3 (ipykernel)",
   "language": "python",
   "name": "python3"
  },
  "language_info": {
   "codemirror_mode": {
    "name": "ipython",
    "version": 3
   },
   "file_extension": ".py",
   "mimetype": "text/x-python",
   "name": "python",
   "nbconvert_exporter": "python",
   "pygments_lexer": "ipython3",
   "version": "3.9.7"
  },
  "toc-autonumbering": false,
  "toc-showcode": false,
  "toc-showmarkdowntxt": false,
  "toc-showtags": false
 },
 "nbformat": 4,
 "nbformat_minor": 5
}
