{
  "cells": [
    {
      "cell_type": "markdown",
      "metadata": {
        "id": "view-in-github",
        "colab_type": "text"
      },
      "source": [
        "<a href=\"https://colab.research.google.com/github/bpriantti/Python_Fundamentos/blob/main/6_Fun%C3%A7%C3%B5es.ipynb\" target=\"_parent\"><img src=\"https://colab.research.google.com/assets/colab-badge.svg\" alt=\"Open In Colab\"/></a>"
      ]
    },
    {
      "cell_type": "markdown",
      "id": "d4e33390-3199-43ef-a8bc-e4410ec0e28e",
      "metadata": {
        "id": "d4e33390-3199-43ef-a8bc-e4410ec0e28e"
      },
      "source": [
        "# Fundamentos de Python - Funções.\n",
        "____\n",
        "\n",
        "__Objetivo:__   \n",
        "\n",
        "O presente arquivo visa abordar de forma autoexplicativa e orientada os principais topicos de programacao em python referentes a __Funções__, sendo assim um guia para a programacao na linguagem servindo tambem como repostorio para esclarecimento de dúvidas durante o desenvolvimento.\n",
        "\n",
        "__Autor:__  \n",
        "   - Bruno Priantti.\n",
        "    \n",
        "__Contato:__  \n",
        "  - b.priantti@outlook.com\n",
        "\n",
        "__Encontre-me:__  \n",
        "   -  https://www.linkedin.com/in/bpriantti/  \n",
        "   -  https://github.com/bpriantti\n",
        "   -  https://www.instagram.com/brunopriantti/\n",
        "   \n",
        "___"
      ]
    },
    {
      "cell_type": "markdown",
      "id": "8e45a53a-e2cc-4e0d-83c5-73ecadcb71d2",
      "metadata": {
        "id": "8e45a53a-e2cc-4e0d-83c5-73ecadcb71d2"
      },
      "source": [
        "## Definição:\n",
        "\n",
        "Funcoes nos permitem automatizar tarefas repetitivas durante o nosso desenvolvimento, sendo assim muito uteis para o nosso codigo.\n",
        "\n",
        "basicamente a estrutura de uma função em python segue a ordem:\n"
      ]
    },
    {
      "cell_type": "markdown",
      "id": "b092a6db-ad62-4a76-a840-90cc4a4335ec",
      "metadata": {
        "id": "b092a6db-ad62-4a76-a840-90cc4a4335ec"
      },
      "source": [
        "### Criando Funções:"
      ]
    },
    {
      "cell_type": "code",
      "execution_count": null,
      "id": "5188a683-5430-4a6a-ae86-41f9ebc7e839",
      "metadata": {
        "id": "5188a683-5430-4a6a-ae86-41f9ebc7e839"
      },
      "outputs": [],
      "source": [
        "def funcao(var_1, var_2,var_3):\n",
        "    #escopo - atividades e tarefas que a funcao vai realizar\n",
        "    return print('fim funcao') # sinaliza o fim da funcao pode retornar uma variavel ou estrutura de dados."
      ]
    },
    {
      "cell_type": "code",
      "execution_count": null,
      "id": "0ca42d53-ee07-4e76-95c0-3fac18dbddfa",
      "metadata": {
        "id": "0ca42d53-ee07-4e76-95c0-3fac18dbddfa",
        "outputId": "f4140084-ea8e-441f-8c43-b50056e718b4"
      },
      "outputs": [
        {
          "name": "stdout",
          "output_type": "stream",
          "text": [
            "media igual a 2.0\n"
          ]
        }
      ],
      "source": [
        "#exemplo criando uma funcao para calcular a media dos numeros.\n",
        "\n",
        "#declarando a funcao\n",
        "def media(var_1,var_2):\n",
        "    med = (var_1 + var_2)/2\n",
        "    return med\n",
        "\n",
        "#chamando a funcao\n",
        "print('media igual a', media(2,2))"
      ]
    },
    {
      "cell_type": "markdown",
      "id": "7f9a74cf-52a8-465c-8573-cd1445cb862c",
      "metadata": {
        "id": "7f9a74cf-52a8-465c-8573-cd1445cb862c"
      },
      "source": [
        "___\n",
        "### Funções nativas do python:\n",
        "\n",
        "Funções nativas do Python são usadas o tempo todo, já usávamos antes mesmo de saber que eram funções.\n",
        "\n",
        "- Print():Mostra um valor para o usuário => Não retorna dado, então não possui return.  \n",
        "- List():Cria uma lista => Retorna um dado, então é uma função com return.  \n",
        "- Int():É uma função de cast (conversão de dado) que transforma o tipo do dado em inteiro.  \n",
        "- Str():É uma função de cast (conversão de dado) que transforma o tipo da variavel para string.  \n",
        "- Float():É uma função de cast (conversão de dado) que transforma o tipo da variavel para float.  \n",
        "- Bool():É uma função de cast (conversão de dado) que transforma o tipo da variável para booleano.  \n",
        "- Type():Mostra o tipo do dado.  \n",
        "- Dir():Mostra as 'opções' de um determinado parâmetro (variável/classe/função).  \n",
        "- Help():Mostra uma ajuda para determinada função/classe/variável.  \n",
        "- round(): arredonda um numero.  \n"
      ]
    },
    {
      "cell_type": "code",
      "execution_count": null,
      "id": "408f7469-f90f-4b1b-8c4c-99615043ea98",
      "metadata": {
        "id": "408f7469-f90f-4b1b-8c4c-99615043ea98",
        "outputId": "42f58b60-768e-483b-a805-d0db47dee0bc"
      },
      "outputs": [
        {
          "data": {
            "text/plain": [
              "['ArithmeticError',\n",
              " 'AssertionError',\n",
              " 'AttributeError',\n",
              " 'BaseException',\n",
              " 'BlockingIOError',\n",
              " 'BrokenPipeError',\n",
              " 'BufferError',\n",
              " 'BytesWarning',\n",
              " 'ChildProcessError',\n",
              " 'ConnectionAbortedError',\n",
              " 'ConnectionError',\n",
              " 'ConnectionRefusedError',\n",
              " 'ConnectionResetError',\n",
              " 'DeprecationWarning',\n",
              " 'EOFError',\n",
              " 'Ellipsis',\n",
              " 'EnvironmentError',\n",
              " 'Exception',\n",
              " 'False',\n",
              " 'FileExistsError',\n",
              " 'FileNotFoundError',\n",
              " 'FloatingPointError',\n",
              " 'FutureWarning',\n",
              " 'GeneratorExit',\n",
              " 'IOError',\n",
              " 'ImportError',\n",
              " 'ImportWarning',\n",
              " 'IndentationError',\n",
              " 'IndexError',\n",
              " 'InterruptedError',\n",
              " 'IsADirectoryError',\n",
              " 'KeyError',\n",
              " 'KeyboardInterrupt',\n",
              " 'LookupError',\n",
              " 'MemoryError',\n",
              " 'ModuleNotFoundError',\n",
              " 'NameError',\n",
              " 'None',\n",
              " 'NotADirectoryError',\n",
              " 'NotImplemented',\n",
              " 'NotImplementedError',\n",
              " 'OSError',\n",
              " 'OverflowError',\n",
              " 'PendingDeprecationWarning',\n",
              " 'PermissionError',\n",
              " 'ProcessLookupError',\n",
              " 'RecursionError',\n",
              " 'ReferenceError',\n",
              " 'ResourceWarning',\n",
              " 'RuntimeError',\n",
              " 'RuntimeWarning',\n",
              " 'StopAsyncIteration',\n",
              " 'StopIteration',\n",
              " 'SyntaxError',\n",
              " 'SyntaxWarning',\n",
              " 'SystemError',\n",
              " 'SystemExit',\n",
              " 'TabError',\n",
              " 'TimeoutError',\n",
              " 'True',\n",
              " 'TypeError',\n",
              " 'UnboundLocalError',\n",
              " 'UnicodeDecodeError',\n",
              " 'UnicodeEncodeError',\n",
              " 'UnicodeError',\n",
              " 'UnicodeTranslateError',\n",
              " 'UnicodeWarning',\n",
              " 'UserWarning',\n",
              " 'ValueError',\n",
              " 'Warning',\n",
              " 'WindowsError',\n",
              " 'ZeroDivisionError',\n",
              " '__IPYTHON__',\n",
              " '__build_class__',\n",
              " '__debug__',\n",
              " '__doc__',\n",
              " '__import__',\n",
              " '__loader__',\n",
              " '__name__',\n",
              " '__package__',\n",
              " '__spec__',\n",
              " 'abs',\n",
              " 'all',\n",
              " 'any',\n",
              " 'ascii',\n",
              " 'bin',\n",
              " 'bool',\n",
              " 'breakpoint',\n",
              " 'bytearray',\n",
              " 'bytes',\n",
              " 'callable',\n",
              " 'chr',\n",
              " 'classmethod',\n",
              " 'compile',\n",
              " 'complex',\n",
              " 'copyright',\n",
              " 'credits',\n",
              " 'delattr',\n",
              " 'dict',\n",
              " 'dir',\n",
              " 'display',\n",
              " 'divmod',\n",
              " 'enumerate',\n",
              " 'eval',\n",
              " 'exec',\n",
              " 'execfile',\n",
              " 'filter',\n",
              " 'float',\n",
              " 'format',\n",
              " 'frozenset',\n",
              " 'get_ipython',\n",
              " 'getattr',\n",
              " 'globals',\n",
              " 'hasattr',\n",
              " 'hash',\n",
              " 'help',\n",
              " 'hex',\n",
              " 'id',\n",
              " 'input',\n",
              " 'int',\n",
              " 'isinstance',\n",
              " 'issubclass',\n",
              " 'iter',\n",
              " 'len',\n",
              " 'license',\n",
              " 'list',\n",
              " 'locals',\n",
              " 'map',\n",
              " 'max',\n",
              " 'memoryview',\n",
              " 'min',\n",
              " 'next',\n",
              " 'object',\n",
              " 'oct',\n",
              " 'open',\n",
              " 'ord',\n",
              " 'pow',\n",
              " 'print',\n",
              " 'property',\n",
              " 'range',\n",
              " 'repr',\n",
              " 'reversed',\n",
              " 'round',\n",
              " 'runfile',\n",
              " 'set',\n",
              " 'setattr',\n",
              " 'slice',\n",
              " 'sorted',\n",
              " 'staticmethod',\n",
              " 'str',\n",
              " 'sum',\n",
              " 'super',\n",
              " 'tuple',\n",
              " 'type',\n",
              " 'vars',\n",
              " 'zip']"
            ]
          },
          "execution_count": 3,
          "metadata": {},
          "output_type": "execute_result"
        }
      ],
      "source": [
        "#para consultar todas as funcoes bultin(nativas), utilize:\n",
        "dir(__builtin__)"
      ]
    },
    {
      "cell_type": "code",
      "execution_count": null,
      "id": "f6f9e935-58b5-44fb-a4e3-126ba439052e",
      "metadata": {
        "id": "f6f9e935-58b5-44fb-a4e3-126ba439052e",
        "outputId": "940be809-b617-44ee-c61b-a8fd5e00374c"
      },
      "outputs": [
        {
          "name": "stdout",
          "output_type": "stream",
          "text": [
            "Help on class zip in module builtins:\n",
            "\n",
            "class zip(object)\n",
            " |  zip(*iterables) --> A zip object yielding tuples until an input is exhausted.\n",
            " |  \n",
            " |     >>> list(zip('abcdefg', range(3), range(4)))\n",
            " |     [('a', 0, 0), ('b', 1, 1), ('c', 2, 2)]\n",
            " |  \n",
            " |  The zip object yields n-length tuples, where n is the number of iterables\n",
            " |  passed as positional arguments to zip().  The i-th element in every tuple\n",
            " |  comes from the i-th iterable argument to zip().  This continues until the\n",
            " |  shortest argument is exhausted.\n",
            " |  \n",
            " |  Methods defined here:\n",
            " |  \n",
            " |  __getattribute__(self, name, /)\n",
            " |      Return getattr(self, name).\n",
            " |  \n",
            " |  __iter__(self, /)\n",
            " |      Implement iter(self).\n",
            " |  \n",
            " |  __next__(self, /)\n",
            " |      Implement next(self).\n",
            " |  \n",
            " |  __reduce__(...)\n",
            " |      Return state information for pickling.\n",
            " |  \n",
            " |  ----------------------------------------------------------------------\n",
            " |  Static methods defined here:\n",
            " |  \n",
            " |  __new__(*args, **kwargs) from builtins.type\n",
            " |      Create and return a new object.  See help(type) for accurate signature.\n",
            "\n"
          ]
        }
      ],
      "source": [
        "#utilize o help para saber como funciona a determinada funcao.\n",
        "help(zip)"
      ]
    },
    {
      "cell_type": "code",
      "execution_count": null,
      "id": "f560c0f8-3268-4318-81cc-42903c1c36ed",
      "metadata": {
        "id": "f560c0f8-3268-4318-81cc-42903c1c36ed"
      },
      "outputs": [],
      "source": [
        ""
      ]
    }
  ],
  "metadata": {
    "kernelspec": {
      "display_name": "Python 3 (ipykernel)",
      "language": "python",
      "name": "python3"
    },
    "language_info": {
      "codemirror_mode": {
        "name": "ipython",
        "version": 3
      },
      "file_extension": ".py",
      "mimetype": "text/x-python",
      "name": "python",
      "nbconvert_exporter": "python",
      "pygments_lexer": "ipython3",
      "version": "3.9.7"
    },
    "colab": {
      "name": "6.Funções.ipynb",
      "provenance": [],
      "include_colab_link": true
    }
  },
  "nbformat": 4,
  "nbformat_minor": 5
}