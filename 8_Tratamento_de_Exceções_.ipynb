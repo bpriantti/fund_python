{
  "cells": [
    {
      "cell_type": "markdown",
      "metadata": {
        "id": "view-in-github",
        "colab_type": "text"
      },
      "source": [
        "<a href=\"https://colab.research.google.com/github/bpriantti/Python_Fundamentos/blob/main/8_Tratamento_de_Exce%C3%A7%C3%B5es_.ipynb\" target=\"_parent\"><img src=\"https://colab.research.google.com/assets/colab-badge.svg\" alt=\"Open In Colab\"/></a>"
      ]
    },
    {
      "cell_type": "markdown",
      "id": "69264c0e-e2fd-4b04-8252-ac3f0296c838",
      "metadata": {
        "id": "69264c0e-e2fd-4b04-8252-ac3f0296c838"
      },
      "source": [
        "# Fundamentos de Python - Tratamento de Exceções.\n",
        "____\n",
        "\n",
        "__Objetivo:__   \n",
        "\n",
        "O presente arquivo visa abordar de forma autoexplicativa e orientada os principais topicos de programacao em python referentes a __Tratamento de Exceções__, sendo assim um guia para a programacao na linguagem servindo tambem como repostorio para esclarecimento de duvidas durante o desenvolvimento.\n",
        "\n",
        "__Autor:__  \n",
        "   - Bruno Priantti.\n",
        "    \n",
        "__Contato:__  \n",
        "  - b.priantti@outlook.com\n",
        "\n",
        "__Encontre-me:__  \n",
        "   -  https://www.linkedin.com/in/bpriantti/  \n",
        "   -  https://github.com/bpriantti\n",
        "   -  https://www.instagram.com/brunopriantti/\n",
        "   \n",
        "___"
      ]
    },
    {
      "cell_type": "markdown",
      "id": "adc49790-1e11-4fa7-a1e7-ada36dfd037a",
      "metadata": {
        "id": "adc49790-1e11-4fa7-a1e7-ada36dfd037a"
      },
      "source": [
        "## Definição\n",
        "\n",
        "Execeções sao erros que podem acontecer durante a execucao do nosso codigo.\n",
        "\n",
        "Exemplos:  \n",
        "Somar um número e uma string -> Operação é impossível.  \n",
        "Divisão por zero -> Operação é impossível.  "
      ]
    },
    {
      "cell_type": "code",
      "execution_count": null,
      "id": "c8924723-f801-4a07-9b49-a3fee295a501",
      "metadata": {
        "id": "c8924723-f801-4a07-9b49-a3fee295a501",
        "outputId": "17f15ec1-f727-43fe-91c0-54c69dcf0a5b"
      },
      "outputs": [
        {
          "ename": "TypeError",
          "evalue": "can only concatenate str (not \"int\") to str",
          "output_type": "error",
          "traceback": [
            "\u001b[1;31m---------------------------------------------------------------------------\u001b[0m",
            "\u001b[1;31mTypeError\u001b[0m                                 Traceback (most recent call last)",
            "Input \u001b[1;32mIn [2]\u001b[0m, in \u001b[0;36m<cell line: 5>\u001b[1;34m()\u001b[0m\n\u001b[0;32m      2\u001b[0m string \u001b[38;5;241m=\u001b[39m \u001b[38;5;124m'\u001b[39m\u001b[38;5;124mBruno\u001b[39m\u001b[38;5;124m'\u001b[39m\n\u001b[0;32m      3\u001b[0m numero \u001b[38;5;241m=\u001b[39m \u001b[38;5;241m2\u001b[39m\n\u001b[1;32m----> 5\u001b[0m \u001b[38;5;28mprint\u001b[39m(\u001b[43mstring\u001b[49m\u001b[43m \u001b[49m\u001b[38;5;241;43m+\u001b[39;49m\u001b[43m \u001b[49m\u001b[43mnumero\u001b[49m)\n",
            "\u001b[1;31mTypeError\u001b[0m: can only concatenate str (not \"int\") to str"
          ]
        }
      ],
      "source": [
        "#Exemplo 01:\n",
        "string = 'Bruno'\n",
        "numero = 2\n",
        "\n",
        "print(string + numero)"
      ]
    },
    {
      "cell_type": "code",
      "execution_count": null,
      "id": "1791f96f-e520-45b4-a04c-10ef8a5afe84",
      "metadata": {
        "id": "1791f96f-e520-45b4-a04c-10ef8a5afe84",
        "outputId": "0356b0bc-f494-4fbf-e221-8ec3b629366d"
      },
      "outputs": [
        {
          "ename": "ZeroDivisionError",
          "evalue": "division by zero",
          "output_type": "error",
          "traceback": [
            "\u001b[1;31m---------------------------------------------------------------------------\u001b[0m",
            "\u001b[1;31mZeroDivisionError\u001b[0m                         Traceback (most recent call last)",
            "Input \u001b[1;32mIn [3]\u001b[0m, in \u001b[0;36m<cell line: 5>\u001b[1;34m()\u001b[0m\n\u001b[0;32m      2\u001b[0m a \u001b[38;5;241m=\u001b[39m \u001b[38;5;241m10\u001b[39m\n\u001b[0;32m      3\u001b[0m b \u001b[38;5;241m=\u001b[39m \u001b[38;5;241m0\u001b[39m\n\u001b[1;32m----> 5\u001b[0m \u001b[38;5;28mprint\u001b[39m(\u001b[43ma\u001b[49m\u001b[38;5;241;43m/\u001b[39;49m\u001b[43mb\u001b[49m)\n",
            "\u001b[1;31mZeroDivisionError\u001b[0m: division by zero"
          ]
        }
      ],
      "source": [
        "#Exemplo 02:\n",
        "a = 10\n",
        "b = 0\n",
        "\n",
        "print(a/b)"
      ]
    },
    {
      "cell_type": "markdown",
      "id": "c19c01d0-fad7-43eb-8444-a3e43dcee552",
      "metadata": {
        "id": "c19c01d0-fad7-43eb-8444-a3e43dcee552"
      },
      "source": [
        "### Estruturas Try/Except\n",
        "\n",
        "As estruturas Try/Execept nos ajudam a tratar exececoes."
      ]
    },
    {
      "cell_type": "code",
      "execution_count": null,
      "id": "e0f40882-d639-4134-a0f4-436831aea636",
      "metadata": {
        "id": "e0f40882-d639-4134-a0f4-436831aea636",
        "outputId": "b4849fe4-396f-457a-c5c4-1df14c8b9c80"
      },
      "outputs": [
        {
          "name": "stdout",
          "output_type": "stream",
          "text": [
            "Porfavor nao realize divisao por zero!!!\n"
          ]
        }
      ],
      "source": [
        "#Exemplo de Uso:\n",
        "\n",
        "a = 10\n",
        "b = 0\n",
        "\n",
        "try:\n",
        "    div = a/b\n",
        "except ZeroDivisionError:\n",
        "    print('Porfavor nao realize divisao por zero!!!')"
      ]
    },
    {
      "cell_type": "markdown",
      "id": "a84e477d-19fb-4a01-832d-34cc265c1590",
      "metadata": {
        "id": "a84e477d-19fb-4a01-832d-34cc265c1590"
      },
      "source": [
        "### Estrutura Try/Except/Finally\n",
        "\n",
        "A estrutura Finally nos permite inserir uma segunda chance para a correcao da exececao"
      ]
    },
    {
      "cell_type": "code",
      "execution_count": null,
      "id": "983f52e6-57bf-4703-8a01-a55541981aeb",
      "metadata": {
        "id": "983f52e6-57bf-4703-8a01-a55541981aeb",
        "outputId": "4aceedee-87f2-4695-90b2-075924c5def0"
      },
      "outputs": [
        {
          "name": "stdout",
          "output_type": "stream",
          "text": [
            "Porfavor nao realize divisao por zero!!!\n",
            "Redigite a variavel b\n"
          ]
        }
      ],
      "source": [
        "#Exemplo de Uso:\n",
        "\n",
        "a = 10\n",
        "b = 0\n",
        "\n",
        "try:\n",
        "    div = a/b\n",
        "except ZeroDivisionError:\n",
        "    print('Porfavor nao realize divisao por zero!!!')\n",
        "finally:\n",
        "    if a == 0:\n",
        "        print('Redigite a variavel a')\n",
        "    elif b == 0:\n",
        "        print('Redigite a variavel b')"
      ]
    }
  ],
  "metadata": {
    "kernelspec": {
      "display_name": "Python 3 (ipykernel)",
      "language": "python",
      "name": "python3"
    },
    "language_info": {
      "codemirror_mode": {
        "name": "ipython",
        "version": 3
      },
      "file_extension": ".py",
      "mimetype": "text/x-python",
      "name": "python",
      "nbconvert_exporter": "python",
      "pygments_lexer": "ipython3",
      "version": "3.9.7"
    },
    "colab": {
      "name": "8.Tratamento de Exceções..ipynb",
      "provenance": [],
      "include_colab_link": true
    }
  },
  "nbformat": 4,
  "nbformat_minor": 5
}
