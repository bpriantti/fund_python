{
 "cells": [
  {
   "cell_type": "markdown",
   "id": "80428850-e43a-4b87-b423-e2fda8f6b6af",
   "metadata": {},
   "source": [
    "# Fundamentos de Python - Variaveis.\n",
    "____"
   ]
  },
  {
   "cell_type": "markdown",
   "id": "14f62989-d5ee-483e-87af-b2369a0f4185",
   "metadata": {},
   "source": [
    "__Objetivo:__   \n",
    "\n",
    "O presente arquivo visa abordar de forma auto-explicativa e orientada os principais topicos de programacao em python referentes a __variaveis__, sendo assim um guia para a programacao na linguagem servindo tambem como repostorio para esclarecimento de duvidas durante o desenvolvimento.\n",
    "\n",
    "__Autor:__  \n",
    "   - Bruno Priantti.\n",
    "    \n",
    "__Contato:__  \n",
    "  - b.priantti@outlook.com\n",
    "\n",
    "__Encontre-me:__  \n",
    "   -  www.linkedin.com/in/bpriantti  \n",
    "   -  https://github.com/bpriantti\n",
    "   -  https://www.instagram.com/brunopriantti/\n",
    "   \n",
    "___"
   ]
  },
  {
   "cell_type": "markdown",
   "id": "d27c02c2-1d5c-4c99-828e-7ea3d9e1dc4a",
   "metadata": {},
   "source": [
    "# Variaveis."
   ]
  },
  {
   "cell_type": "markdown",
   "id": "b59d3d3d-bfdf-4f40-9654-2173904e17ad",
   "metadata": {
    "tags": []
   },
   "source": [
    "___\n",
    "\n",
    "### Definicao. \n",
    "\n",
    "<p style='text-align: left;'>  \n",
    "\n",
    "__O que sao Variaveis?__\n",
    "    \n",
    "Variável é o nome utilizado para definir um ou mais valores que são manipulados pelos programas durante a sua operação. O nome “variável” é utilizado por ser um tipo de conteúdo que pode apresentar diferentes valores enquanto o sistema está em execução. Tudo dependerá do comando do usuário e o tipo de operação que é realizado.\n",
    "\n",
    "__Por que as variáveis são importantes para um programador?__\n",
    "\n",
    "As variáveis de programação são fundamentais para o dia a dia do programador. Elas orientam o programa a executar operações, permitem a validação de dados, evitam que o usuário faça operações proibidas e auxiliam na manutenção da integridade dos registros existentes. Assim, a ferramenta pode apresentar a usabilidade esperada de maneira contínua.\n",
    "\n",
    "Variáveis de programação também podem ser utilizadas para orientar o programa a utilizar a memória do computador corretamente. Se o programador faz a manipulação dessa parte do código-fonte corretamente, ele consegue orientar o software a fazer um bom tratamento de dados. Dessa maneira, o sistema terá uma taxa de erros muito menor.\n",
    "    \n",
    "</p>\n",
    "\n",
    "___"
   ]
  },
  {
   "cell_type": "markdown",
   "id": "6a447974-de52-4de3-8172-b32964ec72d1",
   "metadata": {},
   "source": [
    "__Exemplo de Declaracao de variaveis:__"
   ]
  },
  {
   "cell_type": "code",
   "execution_count": 5,
   "id": "3ba2819e-352c-41cb-a210-72abde5e9d31",
   "metadata": {},
   "outputs": [
    {
     "name": "stdout",
     "output_type": "stream",
     "text": [
      "26\n",
      "Bruno\n",
      "Quant\n",
      "Preto\n"
     ]
    }
   ],
   "source": [
    "idade = 26\n",
    "print(idade)\n",
    "\n",
    "nome = \"Bruno\"\n",
    "print(nome)\n",
    "\n",
    "profissao = \"Quant\"\n",
    "print(profissao)\n",
    "\n",
    "corfavorita = 'Preto'\n",
    "print(corfavorita)"
   ]
  },
  {
   "cell_type": "markdown",
   "id": "4fd02047-f9ba-4a3a-aebc-756a7a5a26e6",
   "metadata": {},
   "source": [
    "___\n",
    "\n",
    "### Tipos Nativos de Variaveis."
   ]
  },
  {
   "cell_type": "markdown",
   "id": "027f5c58-f750-4cb2-a9e1-0942d0a459a8",
   "metadata": {},
   "source": [
    "Em python temos tipos nativos de variaveis, abaixo estao listadas os tipos principais de variaveis nativas do Python:\n",
    "\n",
    "\n",
    "- int    : numero inteiro.        (numericos)\n",
    "- float  : numero racional.       (numericos)  \n",
    "- string : conjunto de caracters  (texto)\n",
    "- bool   : booleana(True, False)  (logica)\n",
    "- none   : none                   (none)\n",
    "\n",
    "Utilize para retornar o tipo da variavel:\n",
    "- type(var)"
   ]
  },
  {
   "cell_type": "markdown",
   "id": "1999042b-0a74-4fa1-bff3-9fbccb46cabf",
   "metadata": {},
   "source": [
    "__Exemplo Tipos de Variaveis__"
   ]
  },
  {
   "cell_type": "code",
   "execution_count": 9,
   "id": "e973ea8f-1afe-4b2a-805d-9ad4807f7f45",
   "metadata": {},
   "outputs": [
    {
     "name": "stdout",
     "output_type": "stream",
     "text": [
      "Variavel Preco:  1000\n",
      "Tipo da Variavel Preco <class 'int'>\n",
      "\n",
      "Variavel Juros:  0.05\n",
      "Tipo Variavel Juros:  <class 'float'>\n"
     ]
    }
   ],
   "source": [
    "#Tipo numerico: int.\n",
    "preco = 1000\n",
    "tipo_preco = type(preco)\n",
    "print('Variavel Preco: ', preco)\n",
    "print('Tipo da Variavel Preco', tipo_preco)\n",
    "print('')\n",
    "#Tipo numerico: float.\n",
    "juros = 0.05\n",
    "tipo_juros = type(juros)\n",
    "print('Variavel Juros: ', juros)\n",
    "print('Tipo Variavel Juros: ', tipo_juros)"
   ]
  },
  {
   "cell_type": "code",
   "execution_count": 11,
   "id": "4781168d-8695-49dd-a577-e388f6a7f211",
   "metadata": {},
   "outputs": [
    {
     "name": "stdout",
     "output_type": "stream",
     "text": [
      "Nome:  Bruno\n",
      "Tipo Nome,  <class 'str'>\n"
     ]
    }
   ],
   "source": [
    "#Tipos de texto: strings (str):\n",
    "nome = 'Bruno'\n",
    "print('Nome: ', nome)\n",
    "print('Tipo Nome, ',type(nome))"
   ]
  },
  {
   "cell_type": "code",
   "execution_count": 12,
   "id": "b0e16d4a-b6a7-48c1-8906-22e9df472c86",
   "metadata": {},
   "outputs": [
    {
     "name": "stdout",
     "output_type": "stream",
     "text": [
      "True\n",
      "<class 'bool'>\n"
     ]
    }
   ],
   "source": [
    "#Tipos Logicos: bool\n",
    "\n",
    "usuario_maior_de_idade = True\n",
    "print(usuario_maior_de_idade)\n",
    "print(type(usuario_maior_de_idade))"
   ]
  },
  {
   "cell_type": "code",
   "execution_count": 14,
   "id": "b38dd672-20fa-453b-adf5-0920ea4c16cc",
   "metadata": {},
   "outputs": [
    {
     "name": "stdout",
     "output_type": "stream",
     "text": [
      "None\n",
      "<class 'NoneType'>\n"
     ]
    }
   ],
   "source": [
    "#Tipos Vazio: None\n",
    "\n",
    "open = None\n",
    "print(open)\n",
    "print(type(open))"
   ]
  },
  {
   "cell_type": "markdown",
   "id": "125e50b4-8b3f-43a1-b8e9-25f17a4f28e0",
   "metadata": {},
   "source": [
    "___\n",
    "### Convertendo Tipos de Variaveis.\n",
    "\n",
    "Em alguns momentos durante a programacao torna-se necessario converter os tipos de variaveis, para isso o python oferece as funcoes nativas:\n",
    "\n",
    "- int()\n",
    "- float()\n",
    "- str()\n",
    "- bool()\n",
    "\n",
    "#retorno vai ser variavel no tipo da funcao. "
   ]
  },
  {
   "cell_type": "markdown",
   "id": "568c57ab-088c-4f11-9d4c-19508b99d413",
   "metadata": {},
   "source": [
    "__Exemplo Convertendo tipos de variaveis.__\n",
    "  "
   ]
  },
  {
   "cell_type": "code",
   "execution_count": 15,
   "id": "661868ac-b0ac-420a-82ff-cdd2f95ccc58",
   "metadata": {},
   "outputs": [
    {
     "name": "stdout",
     "output_type": "stream",
     "text": [
      "3\n",
      "10.0\n",
      "10\n"
     ]
    }
   ],
   "source": [
    "print( int(3.9))\n",
    "print( float(10))\n",
    "print( int('10'))"
   ]
  }
 ],
 "metadata": {
  "kernelspec": {
   "display_name": "Python 3 (ipykernel)",
   "language": "python",
   "name": "python3"
  },
  "language_info": {
   "codemirror_mode": {
    "name": "ipython",
    "version": 3
   },
   "file_extension": ".py",
   "mimetype": "text/x-python",
   "name": "python",
   "nbconvert_exporter": "python",
   "pygments_lexer": "ipython3",
   "version": "3.9.7"
  },
  "toc-autonumbering": false,
  "toc-showcode": false,
  "toc-showmarkdowntxt": false
 },
 "nbformat": 4,
 "nbformat_minor": 5
}
