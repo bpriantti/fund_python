{
  "cells": [
    {
      "cell_type": "markdown",
      "metadata": {
        "id": "view-in-github",
        "colab_type": "text"
      },
      "source": [
        "<a href=\"https://colab.research.google.com/github/bpriantti/Python_Fundamentos/blob/main/0_Hello_Word.ipynb\" target=\"_parent\"><img src=\"https://colab.research.google.com/assets/colab-badge.svg\" alt=\"Open In Colab\"/></a>"
      ]
    },
    {
      "cell_type": "markdown",
      "id": "52dca5cd-6be4-4b33-bac9-a95f4805c845",
      "metadata": {
        "id": "52dca5cd-6be4-4b33-bac9-a95f4805c845"
      },
      "source": [
        "# Fundamentos de Python - Hello Word\n",
        "____\n",
        "\n",
        "__Objetivo:__   \n",
        "\n",
        "O presente arquivo visa abordar de forma auto-explicativa e orientada os principais topicos de programacao em python referentes a __Hello Word__, sendo assim um guia para a programacao na linguagem servindo tambem como repostorio para esclarecimento de duvidas durante o desenvolvimento.\n",
        "\n",
        "__Autor:__  \n",
        "   - Bruno Priantti.\n",
        "    \n",
        "__Contato:__  \n",
        "  - b.priantti@outlook.com\n",
        "\n",
        "__Encontre-me:__  \n",
        "   -  https://www.linkedin.com/in/bpriantti/  \n",
        "   -  https://github.com/bpriantti\n",
        "   -  https://www.instagram.com/brunopriantti/\n",
        "   \n",
        "___"
      ]
    },
    {
      "cell_type": "markdown",
      "id": "f7f919bc-107b-48a6-ad63-bb0fff1d2b13",
      "metadata": {
        "id": "f7f919bc-107b-48a6-ad63-bb0fff1d2b13"
      },
      "source": [
        "## Hello Word:\n",
        "\n",
        "O primeiro passo de toda linguagem de programacao é o Hello Word, para isso utilizamos a funcao __print()__ que mostra dados na tela."
      ]
    },
    {
      "cell_type": "code",
      "execution_count": null,
      "id": "a0b57ca0-bfa5-4c35-bdd3-a11458cd9254",
      "metadata": {
        "id": "a0b57ca0-bfa5-4c35-bdd3-a11458cd9254"
      },
      "outputs": [],
      "source": [
        "#Hello Word\n",
        "print('Hello Word')   "
      ]
    },
    {
      "cell_type": "markdown",
      "id": "8a278114-7906-4dd9-bec8-9c120dbaa5ac",
      "metadata": {
        "id": "8a278114-7906-4dd9-bec8-9c120dbaa5ac"
      },
      "source": [
        "~~~\n",
        "Podemos utiliziar ' ' (aspas simples)  \n",
        "Podemos utiliziar \" \" (aspas duplas)  \n",
        "\n",
        " '\\n' Pular Linha.  \n",
        " '#' para comentar algo.\n",
        "~~~"
      ]
    },
    {
      "cell_type": "code",
      "execution_count": null,
      "id": "c375a135-4915-4d41-8d7e-03f886d6fde2",
      "metadata": {
        "id": "c375a135-4915-4d41-8d7e-03f886d6fde2",
        "outputId": "42e6abf7-c7de-43d1-fc3e-5c97649bcace"
      },
      "outputs": [
        {
          "name": "stdout",
          "output_type": "stream",
          "text": [
            "Qualquer Coisa\n"
          ]
        }
      ],
      "source": [
        "#utilize para mostrar coisas na comand line.\n",
        "print('Qualquer Coisa')\n",
        "\n",
        "#Em Programacao palavras sao chamadas de strings no python nao é diferente."
      ]
    },
    {
      "cell_type": "code",
      "execution_count": null,
      "id": "ee76022d-41c5-4a73-bd8b-e8e55035d98e",
      "metadata": {
        "id": "ee76022d-41c5-4a73-bd8b-e8e55035d98e",
        "outputId": "5141070d-7e7b-4e40-dc98-70c59c484989"
      },
      "outputs": [
        {
          "name": "stdin",
          "output_type": "stream",
          "text": [
            "Digite uma frase aqui: Bruno Priantti\n"
          ]
        },
        {
          "data": {
            "text/plain": [
              "'Bruno Priantti'"
            ]
          },
          "execution_count": 3,
          "metadata": {},
          "output_type": "execute_result"
        }
      ],
      "source": [
        "#Utilize a funcao input para escrever dados diretamente do console.\n",
        "input('Digite uma frase aqui:')"
      ]
    },
    {
      "cell_type": "code",
      "execution_count": null,
      "id": "125faa01-7c85-4cd9-af8a-183fe41a5804",
      "metadata": {
        "id": "125faa01-7c85-4cd9-af8a-183fe41a5804",
        "outputId": "51ee5f9f-8f89-4d81-d51a-1960652519d7"
      },
      "outputs": [
        {
          "name": "stdin",
          "output_type": "stream",
          "text": [
            "Digite uma frase aqui: Bruno Priantti\n"
          ]
        },
        {
          "name": "stdout",
          "output_type": "stream",
          "text": [
            "Bruno Priantti\n"
          ]
        }
      ],
      "source": [
        "#Para Mostrar na Tela\n",
        "print(input('Digite uma frase aqui:'))"
      ]
    },
    {
      "cell_type": "code",
      "execution_count": null,
      "id": "066b996e-2e8c-4010-a00d-8b80cff88028",
      "metadata": {
        "id": "066b996e-2e8c-4010-a00d-8b80cff88028"
      },
      "outputs": [],
      "source": [
        "#obs: a saida sempre sera uma string."
      ]
    }
  ],
  "metadata": {
    "kernelspec": {
      "display_name": "Python 3 (ipykernel)",
      "language": "python",
      "name": "python3"
    },
    "language_info": {
      "codemirror_mode": {
        "name": "ipython",
        "version": 3
      },
      "file_extension": ".py",
      "mimetype": "text/x-python",
      "name": "python",
      "nbconvert_exporter": "python",
      "pygments_lexer": "ipython3",
      "version": "3.9.7"
    },
    "colab": {
      "name": "0.Hello Word.ipynb",
      "provenance": [],
      "collapsed_sections": [],
      "include_colab_link": true
    }
  },
  "nbformat": 4,
  "nbformat_minor": 5
}
