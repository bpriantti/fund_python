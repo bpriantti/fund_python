{
  "cells": [
    {
      "cell_type": "markdown",
      "metadata": {
        "id": "view-in-github",
        "colab_type": "text"
      },
      "source": [
        "<a href=\"https://colab.research.google.com/github/bpriantti/Python_Fundamentos/blob/main/5_Estruturas_de_Dados.ipynb\" target=\"_parent\"><img src=\"https://colab.research.google.com/assets/colab-badge.svg\" alt=\"Open In Colab\"/></a>"
      ]
    },
    {
      "cell_type": "markdown",
      "id": "b136dc0b-19cb-4ef0-9813-b7acf94e3205",
      "metadata": {
        "id": "b136dc0b-19cb-4ef0-9813-b7acf94e3205"
      },
      "source": [
        "# Fundamentos de Python - Estruturas de Dados.\n",
        "____\n",
        "\n",
        "__Objetivo:__   \n",
        "\n",
        "O presente arquivo visa abordar de forma autoexplicativa e orientada os principais topicos de programacao em python referentes a __estruturas de dados__, sendo assim um guia para a programacao na linguagem servindo tambem como repostorio para esclarecimento de duvidas durante o desenvolvimento.\n",
        "\n",
        "__Autor:__  \n",
        "   - Bruno Priantti.\n",
        "    \n",
        "__Contato:__  \n",
        "  - b.priantti@outlook.com\n",
        "\n",
        "__Encontre-me:__  \n",
        "   -  https://www.linkedin.com/in/bpriantti/  \n",
        "   -  https://github.com/bpriantti\n",
        "   -  https://www.instagram.com/brunopriantti/\n",
        "   \n",
        "___"
      ]
    },
    {
      "cell_type": "markdown",
      "id": "23203b38-5718-408b-a103-a8cc97f4a2cc",
      "metadata": {
        "id": "23203b38-5718-408b-a103-a8cc97f4a2cc"
      },
      "source": [
        "### Definição\n",
        "\n",
        "Estruturas de dados como nos permitem armazenar uma serie de variaveis, objetos e tipos de dados.\n",
        "\n",
        "Em python, temos 3 tipos de estruturas de dados:\n",
        "- listas \n",
        "- tuplas \n",
        "- dicionários "
      ]
    },
    {
      "cell_type": "markdown",
      "id": "e9d62e36-3217-402b-b9f7-c3b49426d2de",
      "metadata": {
        "tags": [],
        "id": "e9d62e36-3217-402b-b9f7-c3b49426d2de"
      },
      "source": [
        "___\n",
        "### Listas:\n",
        "\n",
        "listas são usadas para armazenar vários itens em uma única variável.  \n",
        "Pode aumentar e diminuir o numero de itens.  \n",
        "Pode modificar o valor de um elemento.  \n",
        "Usa-se []  \n"
      ]
    },
    {
      "cell_type": "code",
      "execution_count": null,
      "id": "4942cfb2-f870-443e-bfbc-2b0f8a6a65cd",
      "metadata": {
        "id": "4942cfb2-f870-443e-bfbc-2b0f8a6a65cd",
        "outputId": "a0c50bfa-2905-49a7-b0a7-4adcd9c0e183"
      },
      "outputs": [
        {
          "name": "stdout",
          "output_type": "stream",
          "text": [
            "['Bruno', 26, 'Brasil', 'Quant']\n"
          ]
        }
      ],
      "source": [
        "#Declarando uma lista Elementos ja escritos:\n",
        "lista = ['Bruno',26,'Brasil','Quant']\n",
        "print(lista)"
      ]
    },
    {
      "cell_type": "code",
      "execution_count": null,
      "id": "b7ad5372-f436-4492-95dc-65f028796097",
      "metadata": {
        "id": "b7ad5372-f436-4492-95dc-65f028796097",
        "outputId": "48e24433-a2b1-426d-a8e9-8b6addbbf874"
      },
      "outputs": [
        {
          "name": "stdout",
          "output_type": "stream",
          "text": [
            "Lista antes: []\n",
            "Lista depois: ['Bruno', 26, 'Brasil', 'Quant']\n",
            "['Bruno', 26, 'Brasil', 'SP', 'Quant'] \n",
            "\n",
            "lista extendida ['Bruno', 26, 'Brasil', 'SP', 'Quant', 'Frio', 'Programacao', 'Investimentos', 'Machine Leraning', 'Blues', 'Filmes']\n"
          ]
        }
      ],
      "source": [
        "#Inserindo Elementos na Lista\n",
        "\n",
        "#Declarando uma lista do zero\n",
        "lista = [] \n",
        "print('Lista antes:',lista)\n",
        "\n",
        "#Adicionando elementos a lista\n",
        "lista.append('Bruno')\n",
        "lista.append(26)\n",
        "lista.append('Brasil')\n",
        "lista.append('Quant')\n",
        "\n",
        "print('Lista depois:',lista)\n",
        "\n",
        "#Inserindo um valor com uma posição\n",
        "lista.insert( 3, 'SP')\n",
        "print(lista, '\\n' )\n",
        "\n",
        "#Inserindo uma lista dentro da lista:\n",
        "lista_2 = ['Frio','Programacao','Investimentos','Machine Leraning','Blues','Filmes']\n",
        "lista.extend(lista_2)\n",
        "print('lista extendida', lista)"
      ]
    },
    {
      "cell_type": "code",
      "execution_count": null,
      "id": "4242d855-261f-4e64-a139-8d7faf53391f",
      "metadata": {
        "id": "4242d855-261f-4e64-a139-8d7faf53391f",
        "outputId": "d6e74f51-a3a8-466b-9cee-cea68a3d0dfa"
      },
      "outputs": [
        {
          "name": "stdout",
          "output_type": "stream",
          "text": [
            "numero de elementos:  11\n",
            "primeiro elemento:  Bruno\n",
            "segundo elemento:  26\n",
            "ultimo elemento:  Filmes\n",
            "Intervalo:  ['Bruno', 26]\n",
            "Indice do elemento Bruno: 0\n",
            "['Bruno', 26, 'Brasil', 'SP', 'Quant', 'Frio', 'Programacao', 'Investimentos', 'Machine Leraning', 'Blues', 'Filmes']\n"
          ]
        }
      ],
      "source": [
        "#Acessando elementos da lista\n",
        "\n",
        "#para saber o tamanho da lista - utilize: len(lista)\n",
        "print('numero de elementos: ',len(lista))\n",
        "\n",
        "#acessando os elementos da lista:\n",
        "#no python temos indexacao iniciando do 0, logo o primeiro elemento e tem o indice 0.\n",
        "\n",
        "#acessando o primeiro elemento:\n",
        "print('primeiro elemento: ', lista[0])\n",
        "\n",
        "#acessando o segundo elemento:\n",
        "print('segundo elemento: ', lista[1])\n",
        "\n",
        "#acessando o ultimo numero -1:\n",
        "print('ultimo elemento: ', lista[-1])\n",
        "\n",
        "#acessando intervalos:\n",
        "print('Intervalo: ', lista[0:2])\n",
        "\n",
        "#acessando o indice da lista base o elemento\n",
        "print('Indice do elemento Bruno:', lista.index('Bruno'))\n",
        "\n",
        "#Copiar uma Lista\n",
        "lista_2 = lista.copy()\n",
        "print(lista_2)"
      ]
    },
    {
      "cell_type": "code",
      "execution_count": null,
      "id": "35bda6d7-ab63-4865-87bb-805b012fc1b4",
      "metadata": {
        "id": "35bda6d7-ab63-4865-87bb-805b012fc1b4",
        "outputId": "f471c292-a208-40de-97d7-494de3087b0a"
      },
      "outputs": [
        {
          "name": "stdout",
          "output_type": "stream",
          "text": [
            "lista antes ['Bruno', 26, 'Brasil', 'SP', 'Quant', 'Frio', 'Programacao', 'Investimentos', 'Machine Leraning', 'Blues', 'Filmes']\n",
            "Depois da exclusão: ['Bruno', 'Brasil', 'SP', 'Quant', 'Frio', 'Programacao', 'Investimentos', 'Machine Leraning', 'Blues', 'Filmes']\n",
            "['Bruno', 'SP', 'Quant', 'Frio', 'Programacao', 'Investimentos', 'Machine Leraning', 'Blues', 'Filmes']\n",
            "['Bruno', 'SP', 'Quant', 'Frio', 'Programacao', 'Machine Leraning', 'Blues', 'Filmes']\n",
            "Depois da Limpeza: None\n"
          ]
        }
      ],
      "source": [
        "#Removendo Elementos da Lista\n",
        "\n",
        "print('lista antes',lista)\n",
        "\n",
        "#removendo elementos da lista\n",
        "del lista[1]\n",
        "print('Depois da exclusão:', lista)\n",
        "\n",
        "#Removendo itens especifico pelo nome\n",
        "lista.remove('Brasil')\n",
        "print(lista)\n",
        "\n",
        "#Removendo itens pelo index\n",
        "lista.pop(5)\n",
        "print(lista,)\n",
        "\n",
        "#limpando a lista\n",
        "print('Depois da Limpeza:', lista.clear())"
      ]
    },
    {
      "cell_type": "markdown",
      "id": "692a1415-a031-4fd9-ab8a-ba0aa1557ed1",
      "metadata": {
        "id": "692a1415-a031-4fd9-ab8a-ba0aa1557ed1"
      },
      "source": [
        "___\n",
        "__Resumo Funcoes Utilizadas em Listas:__\n",
        "\n",
        "- append() - Para adicionar um item ao final da lista\n",
        "- len()    - Calcular o tamanho da lista\n",
        "- clear()  - Limpar a lista\n",
        "- insert() - Para inserir um item de lista em um índice especificado\n",
        "- extend() - Anexar elementos de outra lista à lista atual\n",
        "- remove() - Remove o item especificado\n",
        "- pop()    - Remove o índice especificado.\n",
        "- sort()   - Ordenar os valores\n",
        "- copy()   - Faz uma copia da Lista\n",
        "- index()  - Retorna o index do elemento da lista\n",
        "- range()  - Retorna um range de numeros."
      ]
    },
    {
      "cell_type": "markdown",
      "id": "27f30a4c-3da3-4746-ad43-73af37c35beb",
      "metadata": {
        "id": "27f30a4c-3da3-4746-ad43-73af37c35beb"
      },
      "source": [
        "___\n",
        "### Tuplas:\n",
        "\n",
        "nao permite alteracoes.  \n",
        "usa-se quando é necessario usar dados fixo.  \n",
        "processamento mais rapido.  \n",
        "Usa-se ()."
      ]
    },
    {
      "cell_type": "code",
      "execution_count": null,
      "id": "f2a257cd-26d6-4fd7-90f9-ad37286b116d",
      "metadata": {
        "id": "f2a257cd-26d6-4fd7-90f9-ad37286b116d",
        "outputId": "2eb30dda-42dc-49f8-bd91-10f5778061ad"
      },
      "outputs": [
        {
          "name": "stdout",
          "output_type": "stream",
          "text": [
            "(0, 1, 2, 2, 4)\n"
          ]
        }
      ],
      "source": [
        "#declara tupla vazia\n",
        "tupla = ()\n",
        "\n",
        "#adciona elementos a tupla\n",
        "tupla = (0,1,2,2,4)\n",
        "\n",
        "print(tupla)"
      ]
    },
    {
      "cell_type": "markdown",
      "id": "448336e8-063b-46ae-9ae4-8834047d3e55",
      "metadata": {
        "id": "448336e8-063b-46ae-9ae4-8834047d3e55"
      },
      "source": [
        "___\n",
        "### Dicionarios:\n",
        "\n",
        "possuem chave-nome(valor).  \n",
        "mutaveis.  \n",
        "nao aceitam valores duplicados.  \n",
        "inicia com {'chave':'nome'}.  "
      ]
    },
    {
      "cell_type": "code",
      "execution_count": null,
      "id": "05b93c97-7f3e-4863-af68-96fb7bdc9a39",
      "metadata": {
        "id": "05b93c97-7f3e-4863-af68-96fb7bdc9a39",
        "outputId": "b9f4d6e3-0da3-4f86-9365-854f5efad1c5"
      },
      "outputs": [
        {
          "name": "stdout",
          "output_type": "stream",
          "text": [
            "Bruno\n",
            "True\n",
            "{'nome': 'Bruno', 'Formacao': 'Engenheiro', 'Profissao': 'Quant', 'pos': 'mestre em mat-est-quant'}\n"
          ]
        }
      ],
      "source": [
        "dic = {'nome':'Bruno', 'Formacao': 'Engenheiro', 'Profissao':'Quant'}\n",
        "\n",
        "#acessando chave-valores\n",
        "print(dic.get('nome'))\n",
        "\n",
        "#ou\n",
        "print('nome' in dic) #retorna true se sim \n",
        "\n",
        "#adicionando itens \n",
        "dic['pos'] = 'mestre em mat-est-quant'\n",
        "print(dic)"
      ]
    },
    {
      "cell_type": "code",
      "execution_count": null,
      "id": "e88ac496-b346-4b3b-8ec3-64506f83236f",
      "metadata": {
        "id": "e88ac496-b346-4b3b-8ec3-64506f83236f"
      },
      "outputs": [],
      "source": [
        ""
      ]
    }
  ],
  "metadata": {
    "kernelspec": {
      "display_name": "Python 3 (ipykernel)",
      "language": "python",
      "name": "python3"
    },
    "language_info": {
      "codemirror_mode": {
        "name": "ipython",
        "version": 3
      },
      "file_extension": ".py",
      "mimetype": "text/x-python",
      "name": "python",
      "nbconvert_exporter": "python",
      "pygments_lexer": "ipython3",
      "version": "3.9.7"
    },
    "colab": {
      "name": "5.Estruturas de Dados.ipynb",
      "provenance": [],
      "include_colab_link": true
    }
  },
  "nbformat": 4,
  "nbformat_minor": 5
}