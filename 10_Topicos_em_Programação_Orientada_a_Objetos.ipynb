{
  "cells": [
    {
      "cell_type": "markdown",
      "metadata": {
        "id": "view-in-github",
        "colab_type": "text"
      },
      "source": [
        "<a href=\"https://colab.research.google.com/github/bpriantti/Python_Fundamentos/blob/main/10_Topicos_em_Programa%C3%A7%C3%A3o_Orientada_a_Objetos.ipynb\" target=\"_parent\"><img src=\"https://colab.research.google.com/assets/colab-badge.svg\" alt=\"Open In Colab\"/></a>"
      ]
    },
    {
      "cell_type": "markdown",
      "id": "2bd0b0de-10cc-487f-988f-a1ef75fe293b",
      "metadata": {
        "id": "2bd0b0de-10cc-487f-988f-a1ef75fe293b"
      },
      "source": [
        "# Fundamentos de Python - Topicos em Programação Orientada a Objetos\n",
        "____\n",
        "\n",
        "__Objetivo:__   \n",
        "\n",
        "O presente arquivo visa abordar de forma autoexplicativa e orientada os principais topicos de programacao em python referentes a __Classes e Objetos__, sendo assim um guia para a programação  na linguagem servindo tambem como repostorio para esclarecimento de dúvidas durante o desenvolvimento.\n",
        "\n",
        "__Autor:__  \n",
        "   - Bruno Priantti.\n",
        "    \n",
        "__Contato:__  \n",
        "  - b.priantti@outlook.com\n",
        "\n",
        "__Encontre-me:__  \n",
        "   -  https://www.linkedin.com/in/bpriantti/  \n",
        "   -  https://github.com/bpriantti\n",
        "   -  https://www.instagram.com/brunopriantti/\n",
        "   \n",
        "___\n"
      ]
    },
    {
      "cell_type": "markdown",
      "id": "74e6b369-6369-45e8-a6c9-1ff257f5cd1c",
      "metadata": {
        "id": "74e6b369-6369-45e8-a6c9-1ff257f5cd1c"
      },
      "source": [
        "## Definicao:\n",
        "\n",
        "__Definicao:(Classe)__\n",
        "\n",
        "Classe pode ser considerada como uma estrutura de dados que possui:\n",
        "\n",
        "- Instancia de atributos\n",
        "- Instancia de metodos\n",
        "- Classes aninhadas\n",
        "\n",
        "Classes   -> Representação.  \n",
        "Atributos -> Variáveis.  \n",
        "Métodos   -> Funções.  \n",
        "\n",
        "__Exemplo:__ \n",
        "\n",
        "Classe __Carro:__\n",
        ">__Atributos:__  \n",
        ">>Modelo  \n",
        ">>Ano  \n",
        ">>Estado  \n",
        "\n",
        ">__Metodos:__\n",
        ">>liga_desliga()  \n",
        ">>acelerar()  \n",
        ">>test_drive()  \n",
        ">>comprar()  \n",
        "\n",
        "____ \n",
        "\n",
        "__Definicao:(Objeto)__\n",
        "\n",
        "Estrutura criada a partir da classe, um objeto da classe recebe de heranca todos os metodos e atributos da classe.\n",
        "\n",
        "__Exemplo:__ \n",
        "\n",
        "Objeto = Instancias da Classe (representações/variaveis da classe)\n",
        "- Variável do tipo carro.\n",
        "\n",
        "Carro.bmw -> Neste momento foi criado uma variavel do tipo carro chamada bmw que possui todos atribuos e metodos da variavel Carro.\n",
        "\n",
        "____"
      ]
    },
    {
      "cell_type": "code",
      "execution_count": null,
      "id": "013475be-7d51-4bb8-8a74-c1655c15ff27",
      "metadata": {
        "id": "013475be-7d51-4bb8-8a74-c1655c15ff27",
        "outputId": "cab89a62-547c-47e1-cd3b-cf5a42bda550"
      },
      "outputs": [
        {
          "name": "stdout",
          "output_type": "stream",
          "text": [
            "O valor do estado do fusca é:    usado\n",
            "O tipo do fusca é:               <class '__main__.Carro'>\n",
            "O valor do estado da ferrari é:  novo\n",
            "O tipo da ferrari é:             <class '__main__.Carro'>\n"
          ]
        }
      ],
      "source": [
        "#Declarando Classe\n",
        "\n",
        "class Carro(object):\n",
        "    estado = 'novo'\n",
        "    \n",
        "fusca = Carro()\n",
        "fusca.estado = 'usado'\n",
        "print('O valor do estado do fusca é:   ',fusca.estado) # Valor do Atributo\n",
        "print('O tipo do fusca é:              ',type(fusca)) # Tipo do Objeto\n",
        "\n",
        "ferrari = Carro()\n",
        "ferrari.estado = 'novo'\n",
        "print('O valor do estado da ferrari é: ',ferrari.estado) # Valor do Atributo\n",
        "print('O tipo da ferrari é:            ',type(ferrari)) # Tipo do Objeto"
      ]
    },
    {
      "cell_type": "code",
      "execution_count": null,
      "id": "17a175e3-c69a-4c5a-a26d-07bb35af5e0b",
      "metadata": {
        "id": "17a175e3-c69a-4c5a-a26d-07bb35af5e0b"
      },
      "outputs": [],
      "source": [
        "#SELF\n",
        "class Carro(object):\n",
        "    estado = 'novo'\n",
        "    \n",
        "    def dirigir(self):\n",
        "        self.estado = 'usado' # Modifica apenas no objeto que chamar o método"
      ]
    },
    {
      "cell_type": "code",
      "execution_count": null,
      "id": "fa3cb6dd-1e00-4c27-9a3f-a06fef599691",
      "metadata": {
        "id": "fa3cb6dd-1e00-4c27-9a3f-a06fef599691",
        "outputId": "4d9c3631-e453-4247-e7a5-3f91f6fbd0c1"
      },
      "outputs": [
        {
          "name": "stdout",
          "output_type": "stream",
          "text": [
            "usado\n",
            "novo\n"
          ]
        }
      ],
      "source": [
        "# Exemplo 1\n",
        "bmw = Carro() # Criou com o estado novo\n",
        "bmw.dirigir() # Modifiquei o estado para usado\n",
        "print(bmw.estado) # Passa a ser usado\n",
        "\n",
        "# Exemplo\n",
        "ferrari = Carro() # Criou com o estado novo\n",
        "print(ferrari.estado) # Continua como novo"
      ]
    },
    {
      "cell_type": "code",
      "execution_count": null,
      "id": "0d1d2378-c14f-4427-a657-64fe38396aeb",
      "metadata": {
        "id": "0d1d2378-c14f-4427-a657-64fe38396aeb",
        "outputId": "bdefed94-9625-4b4e-a855-70dd96e4d9e4"
      },
      "outputs": [
        {
          "name": "stdout",
          "output_type": "stream",
          "text": [
            "A BMW tem o estado: semi-novo\n",
            "A Ferrari tem o estado: novo\n",
            "O Fusca tem o estado: usado\n"
          ]
        }
      ],
      "source": [
        "#Construtor\n",
        "#O constutor de calsse no Python é chamado de init e ele é usado para criar uma nova instância do objeto.\n",
        "#Caso usarmos algum parâmetro no construtor, torna-se obrigatório o envio desse parâmetro na hora da criação do objeto.\n",
        "#Com isso, podemos criar valores padrões para nossos objetos\n",
        "# Criar + Modifica => Cada um já tem seu próprio estado inicial\n",
        "\n",
        "class Carro(object):\n",
        "    def __init__(self, parametro_estado): # Constutor\n",
        "        self.estado = parametro_estado\n",
        "        \n",
        "bmw = Carro('semi-novo')\n",
        "ferrari = Carro('novo')\n",
        "fusca = Carro('usado')\n",
        "\n",
        "print(\"A BMW tem o estado:\",bmw.estado)\n",
        "print(\"A Ferrari tem o estado:\",ferrari.estado)\n",
        "print(\"O Fusca tem o estado:\",fusca.estado)\n"
      ]
    },
    {
      "cell_type": "code",
      "execution_count": null,
      "id": "5ef5f758-d077-4501-8d41-9d78178d8a00",
      "metadata": {
        "id": "5ef5f758-d077-4501-8d41-9d78178d8a00"
      },
      "outputs": [],
      "source": [
        ""
      ]
    }
  ],
  "metadata": {
    "kernelspec": {
      "display_name": "Python 3 (ipykernel)",
      "language": "python",
      "name": "python3"
    },
    "language_info": {
      "codemirror_mode": {
        "name": "ipython",
        "version": 3
      },
      "file_extension": ".py",
      "mimetype": "text/x-python",
      "name": "python",
      "nbconvert_exporter": "python",
      "pygments_lexer": "ipython3",
      "version": "3.9.7"
    },
    "colab": {
      "name": "10.Topicos em Programação Orientada a Objetos.ipynb",
      "provenance": [],
      "collapsed_sections": [],
      "include_colab_link": true
    }
  },
  "nbformat": 4,
  "nbformat_minor": 5
}