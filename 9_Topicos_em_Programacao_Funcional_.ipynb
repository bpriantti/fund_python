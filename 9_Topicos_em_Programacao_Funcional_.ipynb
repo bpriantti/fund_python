{
  "cells": [
    {
      "cell_type": "markdown",
      "metadata": {
        "id": "view-in-github",
        "colab_type": "text"
      },
      "source": [
        "<a href=\"https://colab.research.google.com/github/bpriantti/Python_Fundamentos/blob/main/9_Topicos_em_Programacao_Funcional_.ipynb\" target=\"_parent\"><img src=\"https://colab.research.google.com/assets/colab-badge.svg\" alt=\"Open In Colab\"/></a>"
      ]
    },
    {
      "cell_type": "markdown",
      "id": "fcebf477-554b-45b0-a163-cd7ed3d9c220",
      "metadata": {
        "id": "fcebf477-554b-45b0-a163-cd7ed3d9c220"
      },
      "source": [
        "# Fundamentos de Python - Tópicos em Programação Funcional.\n",
        "____\n",
        "\n",
        "__Objetivo:__   \n",
        "\n",
        "O presente arquivo visa abordar de forma auto-explicativa e orientada os principais topicos de programacao em python referentes a __Tópicos em Programação Funcional__, sendo assim um guia para a programacao na linguagem servindo tambem como repostorio para esclarecimento de duvidas durante o desenvolvimento.\n",
        "\n",
        "__Autor:__  \n",
        "   - Bruno Priantti.\n",
        "    \n",
        "__Contato:__  \n",
        "  - b.priantti@outlook.com\n",
        "\n",
        "__Encontre-me:__  \n",
        "   -  https://www.linkedin.com/in/bpriantti/  \n",
        "   -  https://github.com/bpriantti\n",
        "   -  https://www.instagram.com/brunopriantti/\n",
        "   \n",
        "___"
      ]
    },
    {
      "cell_type": "markdown",
      "id": "88f71ab3-dbd3-4680-b738-aff8c1cf9991",
      "metadata": {
        "id": "88f71ab3-dbd3-4680-b738-aff8c1cf9991"
      },
      "source": [
        "## Definição:\n",
        "\n",
        "Existem basicamente três tipos de programação:\n",
        "   - Imperativa - Em que se impera realizando comandos como se estivesse dando ordens ao sistema.\n",
        "   - Funcional - E basicamente um estilo de programacao orientada por funcoes.\n",
        "   - Orientada a Objetos - E basicamente um estilo de programacao orientada a objetos.\n",
        "   \n",
        "O python e uma linguagem multiparadigma, ou seja, tem um pouco de cada estilo de programacao, mas tem um escopo maior em programacao orientada a objetos.\n",
        "\n",
        "___"
      ]
    },
    {
      "cell_type": "markdown",
      "id": "b77c492c-9029-4443-ad49-8be459d997ba",
      "metadata": {
        "id": "b77c492c-9029-4443-ad49-8be459d997ba"
      },
      "source": [
        "## Função Lambda\n",
        "\n",
        "A funcao lambda e uma funcao anonima conhecida por ser tambem sem nome e possuir um bloco de codigo exuto e pode ser salva dentro de uma variavel, geralmente a utilziamos com outros metodos funcionais como __map, filter e reduce__\n",
        "\n",
        "var = __lambda__ params: expressão"
      ]
    },
    {
      "cell_type": "code",
      "execution_count": null,
      "id": "f3003bda-2664-4972-9bea-943ef32b6e71",
      "metadata": {
        "id": "f3003bda-2664-4972-9bea-943ef32b6e71",
        "outputId": "75384c38-16f0-4428-b588-0faab09385d4"
      },
      "outputs": [
        {
          "name": "stdout",
          "output_type": "stream",
          "text": [
            "O numero 1 e impar!\n",
            "O numero 3 e impar!\n",
            "O numero 5 e impar!\n",
            "O numero 7 e impar!\n",
            "O numero 9 e impar!\n",
            "O numero 11 e impar!\n",
            "O numero 13 e impar!\n",
            "O numero 15 e impar!\n",
            "O numero 17 e impar!\n",
            "O numero 19 e impar!\n"
          ]
        }
      ],
      "source": [
        "#Exemplo:\n",
        "\n",
        "numero_impar = lambda numero: True if numero % 2 != 0 else False\n",
        "\n",
        "lista = range(0,20)\n",
        "\n",
        "for numero in lista:\n",
        "    if numero_impar(numero):\n",
        "        print(f'O numero {numero} e impar!')"
      ]
    },
    {
      "cell_type": "markdown",
      "id": "92b1cd4d-fd3f-4254-a019-4e2127683c9f",
      "metadata": {
        "id": "92b1cd4d-fd3f-4254-a019-4e2127683c9f"
      },
      "source": [
        "## Função Map\n",
        "\n",
        "Esta funcao nos permite aplicar uma funcao em todos os elementos de uma colecao ( list, dict, tuple ...) e retorna todos elementos aplicados pela Função.\n"
      ]
    },
    {
      "cell_type": "code",
      "execution_count": null,
      "id": "b8217fc2-f01a-4cb8-b251-419dd4d873c1",
      "metadata": {
        "id": "b8217fc2-f01a-4cb8-b251-419dd4d873c1",
        "outputId": "2a3fdc3b-851a-4c31-92cf-2744d14aa97d"
      },
      "outputs": [
        {
          "name": "stdout",
          "output_type": "stream",
          "text": [
            "[0, 1, 2, 3, 4, 5, 6, 7, 8, 9, 10, 11, 12, 13, 14, 15, 16, 17, 18, 19]\n",
            "[0, 1, 4, 9, 16, 25, 36, 49, 64, 81, 100, 121, 144, 169, 196, 225, 256, 289, 324, 361]\n"
          ]
        }
      ],
      "source": [
        "#Exemplo:\n",
        "#variavel = map(funcao, colecao)\n",
        "numero = list(range(0,20))\n",
        "\n",
        "#queremos aplicar o quadrado a todos esses numeros.\n",
        "numeros_quadrado = map(lambda num: num**2, numero)\n",
        "\n",
        "print(list(numero))\n",
        "print(list(numeros_quadrado))\n"
      ]
    },
    {
      "cell_type": "markdown",
      "id": "241d0285-2f62-4f9d-8df0-54abadddf0ee",
      "metadata": {
        "id": "241d0285-2f62-4f9d-8df0-54abadddf0ee"
      },
      "source": [
        "## Função Filter\n",
        "\n",
        "Aplica uma funcao logica retornando um booleano, em todos os elementos de uma colecao ( list, dict, tuple ...) e retorna apenas aqueles que forem verdadeiro (True)."
      ]
    },
    {
      "cell_type": "code",
      "execution_count": null,
      "id": "34952988-9f19-4faf-85e4-f9b827e2df96",
      "metadata": {
        "id": "34952988-9f19-4faf-85e4-f9b827e2df96",
        "outputId": "94bfbe4c-6ff0-49bf-b86d-2b121644a71d"
      },
      "outputs": [
        {
          "name": "stdout",
          "output_type": "stream",
          "text": [
            "[1, 3, 5, 7, 9, 11, 13, 15, 17, 19]\n"
          ]
        }
      ],
      "source": [
        "#Exemplo \n",
        "#var = filter(funcao,colecao)\n",
        "\n",
        "numero = list(range(0,20))\n",
        "\n",
        "#verificar os numeros impares em uma lista\n",
        "numero_impar = filter(lambda num: num%2 != 0, numero)\n",
        "\n",
        "print(list(numero_impar))\n"
      ]
    },
    {
      "cell_type": "markdown",
      "id": "9dddd7ac-6744-47c8-90ee-1bea65e3f50f",
      "metadata": {
        "tags": [],
        "id": "9dddd7ac-6744-47c8-90ee-1bea65e3f50f"
      },
      "source": [
        "## Função Reduce\n",
        "\n",
        "Aplica uma funcao a todos os elementos de uma coelcao, dois a dois e retorna apenas um elemento"
      ]
    },
    {
      "cell_type": "code",
      "execution_count": null,
      "id": "f4c0473e-699f-466a-a47b-452a9489a477",
      "metadata": {
        "id": "f4c0473e-699f-466a-a47b-452a9489a477",
        "outputId": "a11751bc-00dd-4985-e0da-28bf234eafe7"
      },
      "outputs": [
        {
          "name": "stdout",
          "output_type": "stream",
          "text": [
            "190\n"
          ]
        }
      ],
      "source": [
        "#Exemplo \n",
        "#var = reduce(funcao,colecao)\n",
        "\n",
        "from functools import reduce\n",
        "\n",
        "numero = list(range(0,20))\n",
        "\n",
        "soma = reduce(lambda x, y: x+y,numero)\n",
        "print(soma)"
      ]
    }
  ],
  "metadata": {
    "kernelspec": {
      "display_name": "Python 3 (ipykernel)",
      "language": "python",
      "name": "python3"
    },
    "language_info": {
      "codemirror_mode": {
        "name": "ipython",
        "version": 3
      },
      "file_extension": ".py",
      "mimetype": "text/x-python",
      "name": "python",
      "nbconvert_exporter": "python",
      "pygments_lexer": "ipython3",
      "version": "3.9.7"
    },
    "colab": {
      "name": "9.Topicos em Programacao Funcional..ipynb",
      "provenance": [],
      "collapsed_sections": [],
      "include_colab_link": true
    }
  },
  "nbformat": 4,
  "nbformat_minor": 5
}