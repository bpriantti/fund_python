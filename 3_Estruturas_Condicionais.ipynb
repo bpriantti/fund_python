{
  "cells": [
    {
      "cell_type": "markdown",
      "metadata": {
        "id": "view-in-github",
        "colab_type": "text"
      },
      "source": [
        "<a href=\"https://colab.research.google.com/github/bpriantti/Python_Fundamentos/blob/main/3_Estruturas_Condicionais.ipynb\" target=\"_parent\"><img src=\"https://colab.research.google.com/assets/colab-badge.svg\" alt=\"Open In Colab\"/></a>"
      ]
    },
    {
      "cell_type": "markdown",
      "id": "513081b0-d66d-4dd4-94a8-6e6e43050d2d",
      "metadata": {
        "id": "513081b0-d66d-4dd4-94a8-6e6e43050d2d"
      },
      "source": [
        "# Fundamentos de Python - Estruturas Condicionais.\n",
        "____\n",
        "\n",
        "__Objetivo:__   \n",
        "\n",
        "O presente arquivo visa abordar de forma autoexplicativa e orientada os principais topicos de programacao em python referentes a __estruturas condicionais__, sendo assim um guia para a programacao na linguagem servindo tambem como repostorio para esclarecimento de duvidas durante o desenvolvimento.\n",
        "\n",
        "__Tópicos:__\n",
        "1. Definição.\n",
        "1. Operadores Matemáticos.\n",
        "1. Operadores Condicionais.\n",
        "1. Operadores Lógicos.\n",
        "1. Operadores Identidade.\n",
        "1. Operadores Associativos.\n",
        "\n",
        "__Autor:__  \n",
        "   - Bruno Priantti.\n",
        "    \n",
        "__Contato:__  \n",
        "  - b.priantti@outlook.com\n",
        "\n",
        "__Encontre-me:__  \n",
        "   -  https://www.linkedin.com/in/bpriantti/  \n",
        "   -  https://github.com/bpriantti\n",
        "   -  https://www.instagram.com/brunopriantti/\n",
        "   \n",
        "___"
      ]
    },
    {
      "cell_type": "markdown",
      "id": "f2d8091e-8dfe-43e5-9203-8d4851652b78",
      "metadata": {
        "id": "f2d8091e-8dfe-43e5-9203-8d4851652b78"
      },
      "source": [
        "## Definição:\n",
        "\n",
        "Estruturas de condicao nos permitem comparar suposicoes elas basicamente funcionam com a estrtura:\n",
        "\n",
        "~~~\n",
        "se (condicao == True) \n",
        "    entao \n",
        "        (tarefa)    \n",
        "se nao\n",
        "    entao \n",
        "        (tarefa)  \n",
        "\n",
        "~~~\n",
        "\n",
        "podem ser:  \n",
        ">if - else - elif"
      ]
    },
    {
      "cell_type": "markdown",
      "id": "18625d0a-090b-41eb-a217-c3cfd4ff7f96",
      "metadata": {
        "id": "18625d0a-090b-41eb-a217-c3cfd4ff7f96"
      },
      "source": [
        "___\n",
        "### IF:"
      ]
    },
    {
      "cell_type": "code",
      "execution_count": null,
      "id": "c9650964-1609-43ad-8bfb-8c51034670b1",
      "metadata": {
        "id": "c9650964-1609-43ad-8bfb-8c51034670b1",
        "outputId": "5fcd6ba0-ab93-4a47-d6dc-e728ec0d0e41"
      },
      "outputs": [
        {
          "name": "stdout",
          "output_type": "stream",
          "text": [
            "O animal é um gato!\n"
          ]
        }
      ],
      "source": [
        "#Exemplo 01:\n",
        "#Se animal for um gato entao ele mostra o print() na tela.\n",
        "\n",
        "animal = 'gato'\n",
        "if animal == 'gato':\n",
        "    print('O animal é um gato!')   "
      ]
    },
    {
      "cell_type": "markdown",
      "id": "827d42f0-41a4-456f-94cb-fd2436550eb9",
      "metadata": {
        "id": "827d42f0-41a4-456f-94cb-fd2436550eb9"
      },
      "source": [
        "___\n",
        "### IF-ELSE"
      ]
    },
    {
      "cell_type": "code",
      "execution_count": null,
      "id": "c907daf7-f5fc-4e55-a640-66f5786aa882",
      "metadata": {
        "id": "c907daf7-f5fc-4e55-a640-66f5786aa882",
        "outputId": "bd71050c-1dcb-4687-bb84-6165523cc21b"
      },
      "outputs": [
        {
          "name": "stdout",
          "output_type": "stream",
          "text": [
            "o animal nao é um gato!\n"
          ]
        }
      ],
      "source": [
        "#Exemplo 02:\n",
        "#Se o animal nao for um gato ele mostra na tela que o animal nao e um gato.\n",
        "\n",
        "animal = 'cachorro'\n",
        "if animal == 'gato':\n",
        "    print('O animal é um gato!') \n",
        "else: \n",
        "    print('o animal nao é um gato!')"
      ]
    },
    {
      "cell_type": "markdown",
      "id": "1405f3da-170d-4e06-ad1a-cfcf14382067",
      "metadata": {
        "id": "1405f3da-170d-4e06-ad1a-cfcf14382067"
      },
      "source": [
        "___\n",
        "### IF - ELIF"
      ]
    },
    {
      "cell_type": "code",
      "execution_count": null,
      "id": "3d61d0a0-0dcb-4c40-959a-0632b9119a6b",
      "metadata": {
        "id": "3d61d0a0-0dcb-4c40-959a-0632b9119a6b",
        "outputId": "8276407e-9991-4d4c-a873-6c517d89ced0"
      },
      "outputs": [
        {
          "name": "stdout",
          "output_type": "stream",
          "text": [
            "O animal é um cachorro!\n"
          ]
        }
      ],
      "source": [
        "#Exemplo 03:\n",
        "#Se o animal nao for um gato mas for um cachorro ele mostra na tela que o animal e um cachorro\n",
        "\n",
        "animal = 'cachorro'\n",
        "if animal == 'gato':\n",
        "    print('O animal é um gato!')\n",
        "elif animal == 'cachorro':\n",
        "    print('O animal é um cachorro!')"
      ]
    },
    {
      "cell_type": "markdown",
      "id": "cdea299e-b684-4df8-92b0-dfc114a84e2e",
      "metadata": {
        "id": "cdea299e-b684-4df8-92b0-dfc114a84e2e"
      },
      "source": [
        "___\n",
        "### IF - ELIF - ELSE"
      ]
    },
    {
      "cell_type": "code",
      "execution_count": null,
      "id": "42e60adc-f435-4264-895b-c807b2950e89",
      "metadata": {
        "id": "42e60adc-f435-4264-895b-c807b2950e89",
        "outputId": "2328b51b-6501-47a9-f610-daf4be36ea9e"
      },
      "outputs": [
        {
          "name": "stdout",
          "output_type": "stream",
          "text": [
            "O animal nao é um gato e nem um cahorro!\n"
          ]
        }
      ],
      "source": [
        "#Exemplo 04:\n",
        "#Se o animal nao for um gato e nao for um cachorro ele mostra na tela que o animal nao e um gato e nem um cahorro\n",
        "\n",
        "animal = 'gaviao'\n",
        "\n",
        "if animal == 'gato':\n",
        "    print('O animal é um gato!')\n",
        "elif animal == 'cachorro':\n",
        "    print('O animal é um cachorro!')\n",
        "else:\n",
        "    print('O animal nao é um gato e nem um cahorro!')"
      ]
    }
  ],
  "metadata": {
    "kernelspec": {
      "display_name": "Python 3 (ipykernel)",
      "language": "python",
      "name": "python3"
    },
    "language_info": {
      "codemirror_mode": {
        "name": "ipython",
        "version": 3
      },
      "file_extension": ".py",
      "mimetype": "text/x-python",
      "name": "python",
      "nbconvert_exporter": "python",
      "pygments_lexer": "ipython3",
      "version": "3.9.7"
    },
    "colab": {
      "name": "3.Estruturas Condicionais.ipynb",
      "provenance": [],
      "include_colab_link": true
    }
  },
  "nbformat": 4,
  "nbformat_minor": 5
}